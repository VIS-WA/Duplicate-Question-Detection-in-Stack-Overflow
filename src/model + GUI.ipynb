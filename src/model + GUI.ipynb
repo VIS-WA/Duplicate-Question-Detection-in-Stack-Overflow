{
 "cells": [
  {
   "cell_type": "code",
   "execution_count": 1,
   "id": "A_lZ6_3vi7Mp",
   "metadata": {
    "colab": {
     "base_uri": "https://localhost:8080/"
    },
    "id": "A_lZ6_3vi7Mp",
    "outputId": "dd600691-dc06-4b4b-9304-06b7d7196ce5"
   },
   "outputs": [
    {
     "name": "stdout",
     "output_type": "stream",
     "text": [
      "Mounted at /content/drive\n"
     ]
    }
   ],
   "source": [
    "from google.colab import drive\n",
    "drive.mount('/content/drive')"
   ]
  },
  {
   "cell_type": "code",
   "execution_count": 2,
   "id": "CL82FhZJjCgI",
   "metadata": {
    "colab": {
     "base_uri": "https://localhost:8080/"
    },
    "id": "CL82FhZJjCgI",
    "outputId": "6479269d-7dcc-4dbd-a106-1c5d50be1c4f"
   },
   "outputs": [
    {
     "name": "stdout",
     "output_type": "stream",
     "text": [
      "/content/drive/MyDrive\n"
     ]
    }
   ],
   "source": [
    "%cd \"/content/drive/MyDrive\""
   ]
  },
  {
   "cell_type": "markdown",
   "id": "07ba09d5",
   "metadata": {
    "id": "07ba09d5"
   },
   "source": [
    "# Libraries"
   ]
  },
  {
   "cell_type": "code",
   "execution_count": 52,
   "id": "c7ff9669",
   "metadata": {
    "colab": {
     "base_uri": "https://localhost:8080/"
    },
    "id": "c7ff9669",
    "outputId": "f462cbec-80cb-44f2-ba20-683bae83b9cc"
   },
   "outputs": [
    {
     "name": "stderr",
     "output_type": "stream",
     "text": [
      "[nltk_data] Downloading package punkt to /home/ksv/nltk_data...\n",
      "[nltk_data]   Package punkt is already up-to-date!\n",
      "[nltk_data] Downloading package stopwords to /home/ksv/nltk_data...\n",
      "[nltk_data]   Package stopwords is already up-to-date!\n",
      "[nltk_data] Downloading package wordnet to /home/ksv/nltk_data...\n",
      "[nltk_data]   Package wordnet is already up-to-date!\n",
      "[nltk_data] Downloading package averaged_perceptron_tagger to\n",
      "[nltk_data]     /home/ksv/nltk_data...\n",
      "[nltk_data]   Package averaged_perceptron_tagger is already up-to-\n",
      "[nltk_data]       date!\n"
     ]
    }
   ],
   "source": [
    "# libraries\n",
    "import nltk #NLP lib\n",
    "import math\n",
    "import numpy as np # numpy for arrays\n",
    "import pandas as pd # pandas lib for data handling\n",
    "from nltk.corpus import stopwords # common eng sstopwords\n",
    "from nltk.stem import PorterStemmer #porter stemmer algo\n",
    "from nltk.tokenize import sent_tokenize, word_tokenize\n",
    "from nltk.stem import WordNetLemmatizer\n",
    "from bs4 import BeautifulSoup # HTML to txt\n",
    "import os\n",
    "import sys\n",
    "nltk.download('punkt')\n",
    "nltk.download('stopwords')\n",
    "nltk.download('wordnet')\n",
    "nltk.download('averaged_perceptron_tagger')\n",
    "ps = PorterStemmer()\n",
    "sw_nltk = stopwords.words('english') # bag of all common english stop words\n",
    "import gensim # for LDA\n",
    "import gensim.corpora as corpora\n",
    "from gensim.utils import simple_preprocess\n",
    "from gensim.models import CoherenceModel"
   ]
  },
  {
   "cell_type": "markdown",
   "id": "79c1d140",
   "metadata": {
    "id": "79c1d140"
   },
   "source": [
    "## Supporting Functions"
   ]
  },
  {
   "cell_type": "code",
   "execution_count": 53,
   "id": "6e7c8352",
   "metadata": {
    "colab": {
     "base_uri": "https://localhost:8080/"
    },
    "id": "6e7c8352",
    "outputId": "5fdc30e8-3042-4894-cf7a-60148fe2324a"
   },
   "outputs": [
    {
     "name": "stdout",
     "output_type": "stream",
     "text": [
      "['c++', 'first-day', 'met', \"'her\", 'she_wa', 'quiet', 'remain', 'quiet', 'entir', 'two', 'hour', 'long', 'journey', 'stoni', 'brook', 'new', 'york']\n"
     ]
    }
   ],
   "source": [
    "import re\n",
    "def TokStem(text,j): # Tokenise and Stem the given text\n",
    "    stoplist = set(nltk.corpus.stopwords.words('english'))\n",
    "    # text = [contraction[word.islower()] for word in text.split(\" \") if word.islower() in contractions.keys() ]\n",
    "    # print(text)\n",
    "    \n",
    "    text =  nltk.word_tokenize(text.lower())\n",
    "    # text = re.split(',text)    \n",
    "    # print(text)\n",
    "    \n",
    "    words = text #[word for word in text if word.isalpha()]\n",
    "    ltz = WordNetLemmatizer()\n",
    "    # words = [word for word in text.split() if word.lower() not in sw_nltk] # bag of tokenised words\n",
    "    final1 = []\n",
    "    final = []\n",
    "    punc = '''!()-[]{};:'\"\\,<>./?@#$%^&*_~``'''\n",
    "    contract_strings = [\"'s\", \"\\\"\",\"'ve\"]\n",
    "    for word in words:\n",
    "      if word not in stoplist and word not in punc and word not in contract_strings and word!='\"':\n",
    "        \n",
    "        final1.append(ltz.lemmatize(word))\n",
    "        final.append(ps.stem(word))\n",
    "    # print(final2)\n",
    "    if j==1: # give a string\n",
    "        return \" \".join(final)\n",
    "    return final\n",
    "text = \"When I C++ . first-day \\\"met! 'her' will her's not she_was very quiet. She remained quiet during the entire two hour long journey from Stony Brook to New York.\"\n",
    "x = TokStem(text,0)\n",
    "print(x)"
   ]
  },
  {
   "cell_type": "code",
   "execution_count": 54,
   "id": "-srO23B_mZnc",
   "metadata": {
    "id": "-srO23B_mZnc"
   },
   "outputs": [],
   "source": [
    "def TokStem(text,j): # Tokenise and Stem the given text\n",
    "    words = [word for word in text.split() if word.lower() not in sw_nltk] # bag of tokenised words\n",
    "    final = []\n",
    "    for w in words:\n",
    "        final.append(ps.stem(w))\n",
    "    if j==1: # give a string\n",
    "        return \" \".join(final)\n",
    "    return final\n",
    "text = \"When I first met her she was very quiet. She remained quiet during the entire two hour long journey from Stony Brook to New York.\"\n",
    "x = TokStem(text,0)"
   ]
  },
  {
   "cell_type": "code",
   "execution_count": 55,
   "id": "380a8695",
   "metadata": {
    "id": "380a8695"
   },
   "outputs": [],
   "source": [
    "def hbt(text): # convert HTML body to text\n",
    "    x = BeautifulSoup(text).get_text()\n",
    "    # print(x)\n",
    "    return x"
   ]
  },
  {
   "cell_type": "code",
   "execution_count": 6,
   "id": "8b0aae97",
   "metadata": {
    "id": "8b0aae97"
   },
   "outputs": [],
   "source": [
    "def rmTags(text): # convert tags to text\n",
    "    st,out = [],[]\n",
    "    for i in text:\n",
    "        if i == '<':\n",
    "            st = []\n",
    "        elif i == '>':\n",
    "            st += ' '\n",
    "            out += st\n",
    "        else:\n",
    "            st += i\n",
    "    return \"\".join(out[:-1]) # remove the last space"
   ]
  },
  {
   "cell_type": "code",
   "execution_count": 10,
   "id": "f6c66e83",
   "metadata": {
    "colab": {
     "base_uri": "https://localhost:8080/"
    },
    "id": "f6c66e83",
    "outputId": "610cf6e5-6f7a-48a6-a760-02609740fdd8"
   },
   "outputs": [
    {
     "name": "stdout",
     "output_type": "stream",
     "text": [
      "<xz><y><w>\n",
      "xz y w 6\n",
      "<xz><y><w\n"
     ]
    }
   ],
   "source": [
    "############ test code\n",
    "x = \"<xz><y>\"\n",
    "x += \"<w>\"\n",
    "print(x)\n",
    "y = rmTags(x)\n",
    "print(y,len(y))\n",
    "print(x[:-1])"
   ]
  },
  {
   "cell_type": "markdown",
   "id": "b90b7808",
   "metadata": {
    "id": "b90b7808"
   },
   "source": [
    "## Loading the data "
   ]
  },
  {
   "cell_type": "code",
   "execution_count": 7,
   "id": "d3db5f33",
   "metadata": {
    "colab": {
     "base_uri": "https://localhost:8080/",
     "height": 823
    },
    "id": "d3db5f33",
    "outputId": "483e721c-1a65-4235-a3a3-e81eb067f04e"
   },
   "outputs": [
    {
     "data": {
      "text/html": [
       "<div>\n",
       "<style scoped>\n",
       "    .dataframe tbody tr th:only-of-type {\n",
       "        vertical-align: middle;\n",
       "    }\n",
       "\n",
       "    .dataframe tbody tr th {\n",
       "        vertical-align: top;\n",
       "    }\n",
       "\n",
       "    .dataframe thead th {\n",
       "        text-align: right;\n",
       "    }\n",
       "</style>\n",
       "<table border=\"1\" class=\"dataframe\">\n",
       "  <thead>\n",
       "    <tr style=\"text-align: right;\">\n",
       "      <th></th>\n",
       "      <th>RelatedPostId</th>\n",
       "      <th>OId</th>\n",
       "      <th>OTitle</th>\n",
       "      <th>OTags</th>\n",
       "      <th>OBody</th>\n",
       "      <th>DId</th>\n",
       "      <th>DTitle</th>\n",
       "      <th>DTags</th>\n",
       "      <th>DBody</th>\n",
       "    </tr>\n",
       "  </thead>\n",
       "  <tbody>\n",
       "    <tr>\n",
       "      <th>0</th>\n",
       "      <td>4</td>\n",
       "      <td>4</td>\n",
       "      <td>How to convert a Decimal to a Double in C#?</td>\n",
       "      <td>&lt;c#&gt;&lt;floating-point&gt;&lt;type-conversion&gt;&lt;double&gt;&lt;...</td>\n",
       "      <td>&lt;p&gt;I want to use a &lt;code&gt;Track-Bar&lt;/code&gt; to c...</td>\n",
       "      <td>51027658</td>\n",
       "      <td>How to echo a JS variable to php?</td>\n",
       "      <td>&lt;javascript&gt;&lt;php&gt;</td>\n",
       "      <td>&lt;p&gt;Is that possible to pass a JS variable to P...</td>\n",
       "    </tr>\n",
       "    <tr>\n",
       "      <th>1</th>\n",
       "      <td>9</td>\n",
       "      <td>9</td>\n",
       "      <td>How do I calculate someone's age based on a Da...</td>\n",
       "      <td>&lt;c#&gt;&lt;.net&gt;&lt;datetime&gt;</td>\n",
       "      <td>&lt;p&gt;Given a &lt;code&gt;DateTime&lt;/code&gt; representing ...</td>\n",
       "      <td>2194999</td>\n",
       "      <td>How to calculate an age based on a birthday</td>\n",
       "      <td>&lt;c#&gt;&lt;asp.net-mvc&gt;&lt;date-arithmetic&gt;</td>\n",
       "      <td>&lt;blockquote&gt;\\n&lt;p&gt;&lt;strong&gt;Possible Duplicate:&lt;/...</td>\n",
       "    </tr>\n",
       "    <tr>\n",
       "      <th>2</th>\n",
       "      <td>11</td>\n",
       "      <td>11</td>\n",
       "      <td>Calculate relative time in C#</td>\n",
       "      <td>&lt;c#&gt;&lt;datetime&gt;&lt;time&gt;&lt;datediff&gt;&lt;relative-time-s...</td>\n",
       "      <td>&lt;p&gt;Given a specific &lt;code&gt;DateTime&lt;/code&gt; valu...</td>\n",
       "      <td>7392566</td>\n",
       "      <td>How to get datetime in words like \"today\", \"ye...</td>\n",
       "      <td>&lt;php&gt;&lt;zend-framework&gt;&lt;datetime&gt;&lt;datetime-format&gt;</td>\n",
       "      <td>&lt;blockquote&gt;\\n  &lt;p&gt;&lt;strong&gt;Possible Duplicate:...</td>\n",
       "    </tr>\n",
       "    <tr>\n",
       "      <th>3</th>\n",
       "      <td>13</td>\n",
       "      <td>13</td>\n",
       "      <td>Determine a user's timezone</td>\n",
       "      <td>&lt;html&gt;&lt;browser&gt;&lt;timezone&gt;&lt;user-agent&gt;&lt;timezone...</td>\n",
       "      <td>&lt;p&gt;Is there a standard way for a web server to...</td>\n",
       "      <td>4746249</td>\n",
       "      <td>get user timezone</td>\n",
       "      <td>&lt;php&gt;&lt;javascript&gt;&lt;timezone&gt;</td>\n",
       "      <td>&lt;blockquote&gt;\\n  &lt;p&gt;&lt;strong&gt;Possible Duplicate:...</td>\n",
       "    </tr>\n",
       "    <tr>\n",
       "      <th>4</th>\n",
       "      <td>14</td>\n",
       "      <td>14</td>\n",
       "      <td>Difference between Math.Floor() and Math.Trunc...</td>\n",
       "      <td>&lt;.net&gt;&lt;math&gt;</td>\n",
       "      <td>&lt;p&gt;What is the difference between &lt;a href=\"htt...</td>\n",
       "      <td>43174619</td>\n",
       "      <td>What is the difference in floor function and t...</td>\n",
       "      <td>&lt;math&gt;</td>\n",
       "      <td>&lt;p&gt;What is the difference between Math.Floor()...</td>\n",
       "    </tr>\n",
       "    <tr>\n",
       "      <th>...</th>\n",
       "      <td>...</td>\n",
       "      <td>...</td>\n",
       "      <td>...</td>\n",
       "      <td>...</td>\n",
       "      <td>...</td>\n",
       "      <td>...</td>\n",
       "      <td>...</td>\n",
       "      <td>...</td>\n",
       "      <td>...</td>\n",
       "    </tr>\n",
       "    <tr>\n",
       "      <th>7880</th>\n",
       "      <td>479799</td>\n",
       "      <td>479799</td>\n",
       "      <td>Replace host in Uri</td>\n",
       "      <td>&lt;c#&gt;&lt;.net&gt;&lt;uri&gt;</td>\n",
       "      <td>&lt;p&gt;What is the nicest way of replacing the hos...</td>\n",
       "      <td>49486804</td>\n",
       "      <td>using regex to find and replace hostname in url</td>\n",
       "      <td>&lt;c#&gt;&lt;regex&gt;</td>\n",
       "      <td>&lt;p&gt;Currently I have my program able to achieve...</td>\n",
       "    </tr>\n",
       "    <tr>\n",
       "      <th>7881</th>\n",
       "      <td>479891</td>\n",
       "      <td>479891</td>\n",
       "      <td>What does the Call keyword do in VB6?</td>\n",
       "      <td>&lt;vba&gt;&lt;vb6&gt;&lt;syntax&gt;</td>\n",
       "      <td>&lt;p&gt;There's some code in our project that looks...</td>\n",
       "      <td>50789914</td>\n",
       "      <td>Calling Macro from inside Macro - Error Compil...</td>\n",
       "      <td>&lt;vba&gt;&lt;ms-office&gt;&lt;ms-word&gt;&lt;word-2013&gt;</td>\n",
       "      <td>&lt;p&gt;I have been copying code moslty to work on ...</td>\n",
       "    </tr>\n",
       "    <tr>\n",
       "      <th>7882</th>\n",
       "      <td>479897</td>\n",
       "      <td>479897</td>\n",
       "      <td>How to remove duplicates from Python list and ...</td>\n",
       "      <td>&lt;python&gt;&lt;list&gt;&lt;sorting&gt;&lt;unique&gt;</td>\n",
       "      <td>&lt;p&gt;Given a list of strings, I want to sort it ...</td>\n",
       "      <td>32706281</td>\n",
       "      <td>Fastest way to remove duplicates from a list o...</td>\n",
       "      <td>&lt;python&gt;&lt;list&gt;&lt;duplicates&gt;</td>\n",
       "      <td>&lt;p&gt;How can I remove duplicate items from a lis...</td>\n",
       "    </tr>\n",
       "    <tr>\n",
       "      <th>7883</th>\n",
       "      <td>479923</td>\n",
       "      <td>479923</td>\n",
       "      <td>Is C# a single dispatch or multiple dispatch l...</td>\n",
       "      <td>&lt;c#&gt;&lt;programming-languages&gt;&lt;multiple-dispatch&gt;...</td>\n",
       "      <td>&lt;p&gt;I'm trying to understand what single and mu...</td>\n",
       "      <td>58463016</td>\n",
       "      <td>Why always this code will call the object para...</td>\n",
       "      <td>&lt;c#&gt;&lt;overloading&gt;</td>\n",
       "      <td>&lt;p&gt;Why the below code would call the &lt;code&gt;pub...</td>\n",
       "    </tr>\n",
       "    <tr>\n",
       "      <th>7884</th>\n",
       "      <td>479953</td>\n",
       "      <td>479953</td>\n",
       "      <td>How to find out which processes are using swap...</td>\n",
       "      <td>&lt;linux&gt;&lt;memory&gt;&lt;swap&gt;</td>\n",
       "      <td>&lt;p&gt;Under Linux, how do I find out which proces...</td>\n",
       "      <td>10580767</td>\n",
       "      <td>What does the SWAP column in top command stand...</td>\n",
       "      <td>&lt;linux&gt;&lt;swap&gt;&lt;top-command&gt;</td>\n",
       "      <td>&lt;blockquote&gt;\\n  &lt;p&gt;&lt;strong&gt;Possible Duplicate:...</td>\n",
       "    </tr>\n",
       "  </tbody>\n",
       "</table>\n",
       "<p>7885 rows × 9 columns</p>\n",
       "</div>"
      ],
      "text/plain": [
       "      RelatedPostId     OId  \\\n",
       "0                 4       4   \n",
       "1                 9       9   \n",
       "2                11      11   \n",
       "3                13      13   \n",
       "4                14      14   \n",
       "...             ...     ...   \n",
       "7880         479799  479799   \n",
       "7881         479891  479891   \n",
       "7882         479897  479897   \n",
       "7883         479923  479923   \n",
       "7884         479953  479953   \n",
       "\n",
       "                                                 OTitle  \\\n",
       "0           How to convert a Decimal to a Double in C#?   \n",
       "1     How do I calculate someone's age based on a Da...   \n",
       "2                         Calculate relative time in C#   \n",
       "3                           Determine a user's timezone   \n",
       "4     Difference between Math.Floor() and Math.Trunc...   \n",
       "...                                                 ...   \n",
       "7880                                Replace host in Uri   \n",
       "7881              What does the Call keyword do in VB6?   \n",
       "7882  How to remove duplicates from Python list and ...   \n",
       "7883  Is C# a single dispatch or multiple dispatch l...   \n",
       "7884  How to find out which processes are using swap...   \n",
       "\n",
       "                                                  OTags  \\\n",
       "0     <c#><floating-point><type-conversion><double><...   \n",
       "1                                  <c#><.net><datetime>   \n",
       "2     <c#><datetime><time><datediff><relative-time-s...   \n",
       "3     <html><browser><timezone><user-agent><timezone...   \n",
       "4                                          <.net><math>   \n",
       "...                                                 ...   \n",
       "7880                                    <c#><.net><uri>   \n",
       "7881                                 <vba><vb6><syntax>   \n",
       "7882                    <python><list><sorting><unique>   \n",
       "7883  <c#><programming-languages><multiple-dispatch>...   \n",
       "7884                              <linux><memory><swap>   \n",
       "\n",
       "                                                  OBody       DId  \\\n",
       "0     <p>I want to use a <code>Track-Bar</code> to c...  51027658   \n",
       "1     <p>Given a <code>DateTime</code> representing ...   2194999   \n",
       "2     <p>Given a specific <code>DateTime</code> valu...   7392566   \n",
       "3     <p>Is there a standard way for a web server to...   4746249   \n",
       "4     <p>What is the difference between <a href=\"htt...  43174619   \n",
       "...                                                 ...       ...   \n",
       "7880  <p>What is the nicest way of replacing the hos...  49486804   \n",
       "7881  <p>There's some code in our project that looks...  50789914   \n",
       "7882  <p>Given a list of strings, I want to sort it ...  32706281   \n",
       "7883  <p>I'm trying to understand what single and mu...  58463016   \n",
       "7884  <p>Under Linux, how do I find out which proces...  10580767   \n",
       "\n",
       "                                                 DTitle  \\\n",
       "0                     How to echo a JS variable to php?   \n",
       "1           How to calculate an age based on a birthday   \n",
       "2     How to get datetime in words like \"today\", \"ye...   \n",
       "3                                     get user timezone   \n",
       "4     What is the difference in floor function and t...   \n",
       "...                                                 ...   \n",
       "7880    using regex to find and replace hostname in url   \n",
       "7881  Calling Macro from inside Macro - Error Compil...   \n",
       "7882  Fastest way to remove duplicates from a list o...   \n",
       "7883  Why always this code will call the object para...   \n",
       "7884  What does the SWAP column in top command stand...   \n",
       "\n",
       "                                                 DTags  \\\n",
       "0                                    <javascript><php>   \n",
       "1                   <c#><asp.net-mvc><date-arithmetic>   \n",
       "2     <php><zend-framework><datetime><datetime-format>   \n",
       "3                          <php><javascript><timezone>   \n",
       "4                                               <math>   \n",
       "...                                                ...   \n",
       "7880                                       <c#><regex>   \n",
       "7881              <vba><ms-office><ms-word><word-2013>   \n",
       "7882                        <python><list><duplicates>   \n",
       "7883                                 <c#><overloading>   \n",
       "7884                        <linux><swap><top-command>   \n",
       "\n",
       "                                                  DBody  \n",
       "0     <p>Is that possible to pass a JS variable to P...  \n",
       "1     <blockquote>\\n<p><strong>Possible Duplicate:</...  \n",
       "2     <blockquote>\\n  <p><strong>Possible Duplicate:...  \n",
       "3     <blockquote>\\n  <p><strong>Possible Duplicate:...  \n",
       "4     <p>What is the difference between Math.Floor()...  \n",
       "...                                                 ...  \n",
       "7880  <p>Currently I have my program able to achieve...  \n",
       "7881  <p>I have been copying code moslty to work on ...  \n",
       "7882  <p>How can I remove duplicate items from a lis...  \n",
       "7883  <p>Why the below code would call the <code>pub...  \n",
       "7884  <blockquote>\\n  <p><strong>Possible Duplicate:...  \n",
       "\n",
       "[7885 rows x 9 columns]"
      ]
     },
     "execution_count": 7,
     "metadata": {},
     "output_type": "execute_result"
    }
   ],
   "source": [
    "df = pd.read_csv('Dataset.csv')\n",
    "df"
   ]
  },
  {
   "cell_type": "markdown",
   "id": "743b1781",
   "metadata": {
    "id": "743b1781"
   },
   "source": [
    "# Data Preprocessing"
   ]
  },
  {
   "cell_type": "code",
   "execution_count": 8,
   "id": "bD8gBTenfTx6",
   "metadata": {
    "colab": {
     "base_uri": "https://localhost:8080/",
     "height": 441
    },
    "id": "bD8gBTenfTx6",
    "outputId": "81831db3-a3a3-4242-c2fa-5d9eae22ba55"
   },
   "outputs": [
    {
     "name": "stdout",
     "output_type": "stream",
     "text": [
      "Duplicate  question set\n"
     ]
    },
    {
     "data": {
      "text/html": [
       "<div>\n",
       "<style scoped>\n",
       "    .dataframe tbody tr th:only-of-type {\n",
       "        vertical-align: middle;\n",
       "    }\n",
       "\n",
       "    .dataframe tbody tr th {\n",
       "        vertical-align: top;\n",
       "    }\n",
       "\n",
       "    .dataframe thead th {\n",
       "        text-align: right;\n",
       "    }\n",
       "</style>\n",
       "<table border=\"1\" class=\"dataframe\">\n",
       "  <thead>\n",
       "    <tr style=\"text-align: right;\">\n",
       "      <th></th>\n",
       "      <th>DId</th>\n",
       "      <th>DTitle</th>\n",
       "      <th>DBody</th>\n",
       "      <th>DTags</th>\n",
       "    </tr>\n",
       "  </thead>\n",
       "  <tbody>\n",
       "    <tr>\n",
       "      <th>0</th>\n",
       "      <td>51027658</td>\n",
       "      <td>How to echo a JS variable to php?</td>\n",
       "      <td>&lt;p&gt;Is that possible to pass a JS variable to P...</td>\n",
       "      <td>&lt;javascript&gt;&lt;php&gt;</td>\n",
       "    </tr>\n",
       "    <tr>\n",
       "      <th>1</th>\n",
       "      <td>2194999</td>\n",
       "      <td>How to calculate an age based on a birthday</td>\n",
       "      <td>&lt;blockquote&gt;\\n&lt;p&gt;&lt;strong&gt;Possible Duplicate:&lt;/...</td>\n",
       "      <td>&lt;c#&gt;&lt;asp.net-mvc&gt;&lt;date-arithmetic&gt;</td>\n",
       "    </tr>\n",
       "    <tr>\n",
       "      <th>2</th>\n",
       "      <td>7392566</td>\n",
       "      <td>How to get datetime in words like \"today\", \"ye...</td>\n",
       "      <td>&lt;blockquote&gt;\\n  &lt;p&gt;&lt;strong&gt;Possible Duplicate:...</td>\n",
       "      <td>&lt;php&gt;&lt;zend-framework&gt;&lt;datetime&gt;&lt;datetime-format&gt;</td>\n",
       "    </tr>\n",
       "    <tr>\n",
       "      <th>3</th>\n",
       "      <td>4746249</td>\n",
       "      <td>get user timezone</td>\n",
       "      <td>&lt;blockquote&gt;\\n  &lt;p&gt;&lt;strong&gt;Possible Duplicate:...</td>\n",
       "      <td>&lt;php&gt;&lt;javascript&gt;&lt;timezone&gt;</td>\n",
       "    </tr>\n",
       "    <tr>\n",
       "      <th>4</th>\n",
       "      <td>43174619</td>\n",
       "      <td>What is the difference in floor function and t...</td>\n",
       "      <td>&lt;p&gt;What is the difference between Math.Floor()...</td>\n",
       "      <td>&lt;math&gt;</td>\n",
       "    </tr>\n",
       "    <tr>\n",
       "      <th>...</th>\n",
       "      <td>...</td>\n",
       "      <td>...</td>\n",
       "      <td>...</td>\n",
       "      <td>...</td>\n",
       "    </tr>\n",
       "    <tr>\n",
       "      <th>295</th>\n",
       "      <td>3582464</td>\n",
       "      <td>Is there a XSD-driven random XML test data gen...</td>\n",
       "      <td>&lt;p&gt;For stress tests, I would like to create XM...</td>\n",
       "      <td>&lt;c#&gt;&lt;java&gt;&lt;xml&gt;&lt;delphi&gt;&lt;xsd&gt;</td>\n",
       "    </tr>\n",
       "    <tr>\n",
       "      <th>296</th>\n",
       "      <td>14279410</td>\n",
       "      <td>Using List&lt;T&gt; vs. IList&lt;T&gt;</td>\n",
       "      <td>&lt;blockquote&gt;\\n  &lt;p&gt;&lt;strong&gt;Possible Duplicate:...</td>\n",
       "      <td>&lt;c#&gt;&lt;asp.net&gt;&lt;.net&gt;</td>\n",
       "    </tr>\n",
       "    <tr>\n",
       "      <th>297</th>\n",
       "      <td>2195747</td>\n",
       "      <td>Code to create a password encrypted zip file?</td>\n",
       "      <td>&lt;p&gt;What is the Python code to create a passwor...</td>\n",
       "      <td>&lt;python&gt;</td>\n",
       "    </tr>\n",
       "    <tr>\n",
       "      <th>298</th>\n",
       "      <td>7932008</td>\n",
       "      <td>Can float values add to a sum of zero?</td>\n",
       "      <td>&lt;blockquote&gt;\\n  &lt;p&gt;&lt;strong&gt;Possible Duplicate:...</td>\n",
       "      <td>&lt;c++&gt;&lt;c&gt;&lt;floating-point&gt;</td>\n",
       "    </tr>\n",
       "    <tr>\n",
       "      <th>299</th>\n",
       "      <td>902591</td>\n",
       "      <td>How to attach a file using mail command on Linux?</td>\n",
       "      <td>&lt;p&gt;I'm on a server running a Linux shell. \\nI ...</td>\n",
       "      <td>&lt;linux&gt;&lt;unix&gt;&lt;shell&gt;&lt;email&gt;</td>\n",
       "    </tr>\n",
       "  </tbody>\n",
       "</table>\n",
       "<p>300 rows × 4 columns</p>\n",
       "</div>"
      ],
      "text/plain": [
       "          DId                                             DTitle  \\\n",
       "0    51027658                  How to echo a JS variable to php?   \n",
       "1     2194999        How to calculate an age based on a birthday   \n",
       "2     7392566  How to get datetime in words like \"today\", \"ye...   \n",
       "3     4746249                                  get user timezone   \n",
       "4    43174619  What is the difference in floor function and t...   \n",
       "..        ...                                                ...   \n",
       "295   3582464  Is there a XSD-driven random XML test data gen...   \n",
       "296  14279410                         Using List<T> vs. IList<T>   \n",
       "297   2195747      Code to create a password encrypted zip file?   \n",
       "298   7932008             Can float values add to a sum of zero?   \n",
       "299    902591  How to attach a file using mail command on Linux?   \n",
       "\n",
       "                                                 DBody  \\\n",
       "0    <p>Is that possible to pass a JS variable to P...   \n",
       "1    <blockquote>\\n<p><strong>Possible Duplicate:</...   \n",
       "2    <blockquote>\\n  <p><strong>Possible Duplicate:...   \n",
       "3    <blockquote>\\n  <p><strong>Possible Duplicate:...   \n",
       "4    <p>What is the difference between Math.Floor()...   \n",
       "..                                                 ...   \n",
       "295  <p>For stress tests, I would like to create XM...   \n",
       "296  <blockquote>\\n  <p><strong>Possible Duplicate:...   \n",
       "297  <p>What is the Python code to create a passwor...   \n",
       "298  <blockquote>\\n  <p><strong>Possible Duplicate:...   \n",
       "299  <p>I'm on a server running a Linux shell. \\nI ...   \n",
       "\n",
       "                                                DTags  \n",
       "0                                   <javascript><php>  \n",
       "1                  <c#><asp.net-mvc><date-arithmetic>  \n",
       "2    <php><zend-framework><datetime><datetime-format>  \n",
       "3                         <php><javascript><timezone>  \n",
       "4                                              <math>  \n",
       "..                                                ...  \n",
       "295                      <c#><java><xml><delphi><xsd>  \n",
       "296                               <c#><asp.net><.net>  \n",
       "297                                          <python>  \n",
       "298                          <c++><c><floating-point>  \n",
       "299                       <linux><unix><shell><email>  \n",
       "\n",
       "[300 rows x 4 columns]"
      ]
     },
     "execution_count": 8,
     "metadata": {},
     "output_type": "execute_result"
    }
   ],
   "source": [
    "N1 = len(df)\n",
    "N2 = 300\n",
    "# duplicate questions for training (with sorting)\n",
    "Q2 = df[['OId','OTitle','OBody','OTags']].loc[0:N1-1].copy() # original qns\n",
    "Q1 = df[['DId','DTitle','DBody','DTags']].loc[0:N2-1].copy() # doop qns\n",
    "print(\"Duplicate  question set\")\n",
    "Q1\n"
   ]
  },
  {
   "cell_type": "code",
   "execution_count": 9,
   "id": "1dc3a0d2",
   "metadata": {
    "id": "1dc3a0d2"
   },
   "outputs": [],
   "source": [
    "\n",
    "# # process the body wit tok, stem and modify tags and export\n",
    "\n",
    "for i in range(Q2.shape[0]):\n",
    "    \n",
    "    x = TokStem(hbt(Q2.loc[i,'OBody']),1)\n",
    "    y = rmTags(Q2.loc[i,'OTags'])\n",
    "    z = TokStem(hbt(Q2.loc[i,'OTitle']),1)\n",
    "\n",
    "    Q2.loc[i,'OBody'] = x\n",
    "    Q2.loc[i,'OTags'] = y\n",
    "    Q2.loc[i,'OTitle'] =z\n",
    "  \n",
    "for i in range(Q1.shape[0]):\n",
    "    x = TokStem(hbt(Q1.loc[i,'DBody']),1)\n",
    "    y = rmTags(Q1.loc[i,'DTags'])\n",
    "    z = TokStem(hbt(Q1.loc[i,'DTitle']),1)\n",
    "    \n",
    "    Q1.loc[i,'DBody'] = x\n",
    "    Q1.loc[i,'DTags'] = y\n",
    "    Q1.loc[i,'DTitle'] =z\n",
    "\n",
    "# Q2.to_csv('body_stem.csv') # export to CSV"
   ]
  },
  {
   "cell_type": "markdown",
   "id": "yqXycW6uz8tk",
   "metadata": {
    "id": "yqXycW6uz8tk"
   },
   "source": [
    "## LDA processing"
   ]
  },
  {
   "cell_type": "code",
   "execution_count": 10,
   "id": "p8PU672nvhoG",
   "metadata": {
    "colab": {
     "base_uri": "https://localhost:8080/"
    },
    "id": "p8PU672nvhoG",
    "outputId": "e37fea82-3bbf-4b09-f026-8578b4d2a96e"
   },
   "outputs": [],
   "source": [
    "# also create master data for finding topics\n",
    "data_words = []\n",
    "\n",
    "for i in range(Q2.shape[0]):\n",
    "  data_words.append((Q2.loc[i,'OBody']+Q2.loc[i,'OTitle']).split())\n",
    "\n",
    "# create dictionary\n",
    "id2word = corpora.Dictionary(data_words)\n",
    "\n",
    "corpus = []\n",
    "for text in data_words:\n",
    "    new = id2word.doc2bow(text)\n",
    "    corpus.append(new)\n",
    "# LDA imp    \n",
    "lda_model = gensim.models.LdaMulticore(corpus=corpus, id2word=id2word, num_topics=100,minimum_probability=0.0)\n",
    "lda_train = np.zeros((len(data_words),100)) # Q1 + Q2 size by 100 topics, refer to perplexity in paper\n",
    "\n",
    "for i in range(len(data_words)): #find prob distribution of qn belonging to all the topics\n",
    "\tlda_train[i] = np.array(lda_model[corpus[i]])[:,1]\n",
    "\n",
    "# new = id2word.doc2bow(text)\n",
    "# a = np.array(lda_model[text])[:,1]\n",
    "# b = "
   ]
  },
  {
   "cell_type": "markdown",
   "id": "uF_Yus-9uMbl",
   "metadata": {
    "id": "uF_Yus-9uMbl"
   },
   "source": [
    "## Cosine Similarity between two strings"
   ]
  },
  {
   "cell_type": "code",
   "execution_count": 11,
   "id": "1hUVt5iHXb5i",
   "metadata": {
    "colab": {
     "base_uri": "https://localhost:8080/"
    },
    "id": "1hUVt5iHXb5i",
    "outputId": "fb1f0eeb-5ed8-424d-8f6d-40d3489405f3"
   },
   "outputs": [
    {
     "name": "stdout",
     "output_type": "stream",
     "text": [
      "0.0\n"
     ]
    }
   ],
   "source": [
    "def cos_sim(a,b): # finding cosine similarity score for given 2 strings\n",
    "    # input two strings that are split into words\n",
    "    us = [] # creating union set\n",
    "    us += b\n",
    "    for x in a:\n",
    "        if x not in b:\n",
    "            us.append(x)\n",
    "    freqa,freqb,frequ = dict(),dict(),dict()\n",
    "    wa,wb = [], []\n",
    "    for word in a: # freq bag for string a\n",
    "        if word in freqa:\n",
    "            freqa[word] += 1\n",
    "        else:\n",
    "            freqa[word] = 1\n",
    "    for word in b:# freq bag for string b\n",
    "        if word in freqb:\n",
    "            freqb[word] += 1\n",
    "        else:\n",
    "            freqb[word] = 1\n",
    "    for word in us: # freq bag for union of a and b\n",
    "        if word in frequ:\n",
    "            frequ[word] += 1\n",
    "        else:\n",
    "            frequ[word] = 1\n",
    "    for i in range(len(us)): # calc TitleVec for a and b\n",
    "        x = us[i]\n",
    "        if x in a:\n",
    "            wa.append(freqa[x]/frequ[x])\n",
    "        else:\n",
    "            wa.append(0)\n",
    "        if x in b:\n",
    "            wb.append(freqb[x]/frequ[x])\n",
    "        else:\n",
    "            wb.append(0)\n",
    "    wa = np.array(wa)\n",
    "    wb = np.array(wb)\n",
    "    ans = np.dot(wa,wb)/(np.linalg.norm(wa)*np.linalg.norm(wb))\n",
    "    if np.isnan(ans):\n",
    "      return 0\n",
    "    return  ans# cosine value\n",
    "print(cos_sim(Q2.loc[0,'OTags'].split(),Q1.loc[0,'DTags'].split()))"
   ]
  },
  {
   "cell_type": "markdown",
   "id": "4a66a854",
   "metadata": {
    "id": "4a66a854"
   },
   "source": [
    "# Calculating Similarity component scores"
   ]
  },
  {
   "cell_type": "code",
   "execution_count": null,
   "id": "10c3ad97",
   "metadata": {
    "id": "10c3ad97"
   },
   "outputs": [],
   "source": [
    "#Run this if you want to retrain the training data\n",
    "# b= ['OTitle','OBody','OTags']\n",
    "# a = ['DTitle','DBody','DTags']\n",
    "# SC = np.zeros([Q2.shape[0],Q1.shape[0],4]) # store all the component scores [ori,doop,4]\n",
    "# y = 162130\n",
    "\n",
    "\n",
    "# for i in range(Q2.shape[0]):\n",
    "#     l11  = Q2.loc[i,b[0]].split()\n",
    "#     l12  = Q2.loc[i,b[1]].split()\n",
    "#     l13  = Q2.loc[i,b[2]].split()\n",
    "#     for j in range(Q1.shape[0]):\n",
    "#         l21  = Q2.loc[i,a[0]].split()\n",
    "#         l22  = Q2.loc[i,a[1]].split()\n",
    "#         l23  = Q2.loc[i,a[2]].split()\n",
    "\n",
    "#         SC[i][j][0] = cos_sim(l11,l21) # TitleSC\n",
    "#         SC[i][j][1] = cos_sim(l12,l22) # BodySC\n",
    "#         SC[i][j][2] = cos_sim(Q2.loc[i,b[2]],Q1.loc[j,a[2]]) # TagsSC\n",
    "b= ['OTitle','OBody','OTags']\n",
    "a = ['DTitle','DBody','DTags']\n",
    "SC = np.zeros([Q2.shape[0],Q1.shape[0],4]) # store all the component scores [ori,doop,4]\n",
    "y = 162130\n",
    "n2 = Q1.shape[0]\n",
    "wa = np.zeros(100)\n",
    "wb = np.zeros(100)\n",
    "for i in range(Q2.shape[0]):\n",
    "    print(i)\n",
    "    for j in range(Q1.shape[0]):\n",
    "        \n",
    "        SC[i][j][0] = cos_sim(Q1.loc[j,a[0]].split(),Q2.loc[i,b[0]].split()) # TitleSC\n",
    "        SC[i][j][1] = cos_sim(Q1.loc[j,a[1]].split(),Q2.loc[i,b[1]].split()) # BodySC\n",
    "        SC[i][j][2] = cos_sim(Q1.loc[j,a[2]].split(),Q2.loc[i,b[2]].split()) # TagsSC\n",
    "        text = (Q1.loc[j,'DBody']+Q1.loc[j,'DTitle']).split()\n",
    "        corp = id2word.doc2bow(text)\n",
    "        wa, wb = np.array(lda_model[corp])[:,1], lda_train[i] # lda train has Q1 qns and then Q2 qns\n",
    "        SC[i][j][3] = np.dot(wa,wb)/(np.linalg.norm(wa)*np.linalg.norm(wb))# TopicSC\n",
    "        if (np.isnan(SC[i][j][3])):\n",
    "          SC[i][j][3] = 0\n",
    "        if (j==35):\n",
    "          print(SC[i][j])\n",
    "np.save(\"Training set Similarity scores.npy\",SC)\n"
   ]
  },
  {
   "cell_type": "markdown",
   "id": "23a9175e",
   "metadata": {
    "id": "23a9175e"
   },
   "source": [
    "# Estimating parameters"
   ]
  },
  {
   "cell_type": "code",
   "execution_count": 12,
   "id": "E-h7vn4X4V1U",
   "metadata": {
    "id": "E-h7vn4X4V1U"
   },
   "outputs": [],
   "source": [
    "SC = np.load(\"Training set Similarity scores.npy\")\n",
    "# instead of training everytime, we loaded the trained values into a file to skip training everytime we login"
   ]
  },
  {
   "cell_type": "markdown",
   "id": "v3UucPsgsr6a",
   "metadata": {
    "id": "v3UucPsgsr6a"
   },
   "source": [
    "## Greedy Approach"
   ]
  },
  {
   "cell_type": "code",
   "execution_count": null,
   "id": "360b7cee",
   "metadata": {
    "colab": {
     "base_uri": "https://localhost:8080/",
     "height": 305
    },
    "id": "360b7cee",
    "outputId": "21650119-967e-47e5-ae9d-3e15fc66dddc"
   },
   "outputs": [
    {
     "name": "stdout",
     "output_type": "stream",
     "text": [
      "0.0 0.0 0.0 1.0 1\n",
      "0.0 0.0 1.0 0.0 1\n"
     ]
    },
    {
     "ename": "KeyboardInterrupt",
     "evalue": "ignored",
     "output_type": "error",
     "traceback": [
      "\u001b[0;31m---------------------------------------------------------------------------\u001b[0m",
      "\u001b[0;31mKeyboardInterrupt\u001b[0m                         Traceback (most recent call last)",
      "\u001b[0;32m<ipython-input-34-2c6db60598c6>\u001b[0m in \u001b[0;36m<module>\u001b[0;34m()\u001b[0m\n\u001b[1;32m     14\u001b[0m                     \u001b[0mte\u001b[0m \u001b[0;34m=\u001b[0m \u001b[0;34m[\u001b[0m\u001b[0;34m]\u001b[0m\u001b[0;34m\u001b[0m\u001b[0;34m\u001b[0m\u001b[0m\n\u001b[1;32m     15\u001b[0m                     \u001b[0;32mfor\u001b[0m \u001b[0mj\u001b[0m \u001b[0;32min\u001b[0m \u001b[0mrange\u001b[0m\u001b[0;34m(\u001b[0m\u001b[0mQ2\u001b[0m\u001b[0;34m.\u001b[0m\u001b[0mshape\u001b[0m\u001b[0;34m[\u001b[0m\u001b[0;36m0\u001b[0m\u001b[0;34m]\u001b[0m\u001b[0;34m)\u001b[0m\u001b[0;34m:\u001b[0m \u001b[0;31m# iterate over available qns\u001b[0m\u001b[0;34m\u001b[0m\u001b[0;34m\u001b[0m\u001b[0m\n\u001b[0;32m---> 16\u001b[0;31m                         \u001b[0mte\u001b[0m\u001b[0;34m.\u001b[0m\u001b[0mappend\u001b[0m\u001b[0;34m(\u001b[0m\u001b[0ma\u001b[0m\u001b[0;34m*\u001b[0m\u001b[0mSC\u001b[0m\u001b[0;34m[\u001b[0m\u001b[0mj\u001b[0m\u001b[0;34m]\u001b[0m\u001b[0;34m[\u001b[0m\u001b[0mi\u001b[0m\u001b[0;34m]\u001b[0m\u001b[0;34m[\u001b[0m\u001b[0;36m0\u001b[0m\u001b[0;34m]\u001b[0m\u001b[0;34m+\u001b[0m\u001b[0mb\u001b[0m\u001b[0;34m*\u001b[0m\u001b[0mSC\u001b[0m\u001b[0;34m[\u001b[0m\u001b[0mj\u001b[0m\u001b[0;34m]\u001b[0m\u001b[0;34m[\u001b[0m\u001b[0mi\u001b[0m\u001b[0;34m]\u001b[0m\u001b[0;34m[\u001b[0m\u001b[0;36m1\u001b[0m\u001b[0;34m]\u001b[0m\u001b[0;34m+\u001b[0m\u001b[0mc\u001b[0m\u001b[0;34m*\u001b[0m\u001b[0mSC\u001b[0m\u001b[0;34m[\u001b[0m\u001b[0mj\u001b[0m\u001b[0;34m]\u001b[0m\u001b[0;34m[\u001b[0m\u001b[0mi\u001b[0m\u001b[0;34m]\u001b[0m\u001b[0;34m[\u001b[0m\u001b[0;36m2\u001b[0m\u001b[0;34m]\u001b[0m\u001b[0;34m+\u001b[0m\u001b[0md\u001b[0m\u001b[0;34m*\u001b[0m\u001b[0mSC\u001b[0m\u001b[0;34m[\u001b[0m\u001b[0mj\u001b[0m\u001b[0;34m]\u001b[0m\u001b[0;34m[\u001b[0m\u001b[0mi\u001b[0m\u001b[0;34m]\u001b[0m\u001b[0;34m[\u001b[0m\u001b[0;36m3\u001b[0m\u001b[0;34m]\u001b[0m\u001b[0;34m)\u001b[0m \u001b[0;31m# composer score\u001b[0m\u001b[0;34m\u001b[0m\u001b[0;34m\u001b[0m\u001b[0m\n\u001b[0m\u001b[1;32m     17\u001b[0m                     \u001b[0mx\u001b[0m \u001b[0;34m=\u001b[0m \u001b[0mte\u001b[0m\u001b[0;34m.\u001b[0m\u001b[0mindex\u001b[0m\u001b[0;34m(\u001b[0m\u001b[0mmax\u001b[0m\u001b[0;34m(\u001b[0m\u001b[0mte\u001b[0m\u001b[0;34m)\u001b[0m\u001b[0;34m)\u001b[0m \u001b[0;31m# get index of maximum element\u001b[0m\u001b[0;34m\u001b[0m\u001b[0;34m\u001b[0m\u001b[0m\n\u001b[1;32m     18\u001b[0m                     \u001b[0;32mif\u001b[0m \u001b[0mQ2\u001b[0m\u001b[0;34m.\u001b[0m\u001b[0mloc\u001b[0m\u001b[0;34m[\u001b[0m\u001b[0mx\u001b[0m\u001b[0;34m,\u001b[0m\u001b[0;34m'OId'\u001b[0m\u001b[0;34m]\u001b[0m \u001b[0;34m==\u001b[0m \u001b[0mdf\u001b[0m\u001b[0;34m.\u001b[0m\u001b[0mloc\u001b[0m\u001b[0;34m[\u001b[0m\u001b[0mi\u001b[0m\u001b[0;34m,\u001b[0m\u001b[0;34m'OId'\u001b[0m\u001b[0;34m]\u001b[0m\u001b[0;34m:\u001b[0m \u001b[0;31m# if correct original qn is detected\u001b[0m\u001b[0;34m\u001b[0m\u001b[0;34m\u001b[0m\u001b[0m\n",
      "\u001b[0;31mKeyboardInterrupt\u001b[0m: "
     ]
    }
   ],
   "source": [
    "sp = np.linspace(0,1,2) # change last parameter for fine tuning\n",
    "gco = 0 # global count\n",
    "\n",
    "ga,gb,gc,gd = 0,0,0,0 # final parameter values\n",
    "for a in sp:\n",
    "    for b in sp:\n",
    "        for c in sp:\n",
    "            for d in sp:\n",
    "\n",
    "                if a==0 and b==0 and c==0 and d==0:\n",
    "                    continue\n",
    "                tc = 0 # temp count\n",
    "                for i in range(Q1.shape[0]): # iterate all duplicate qns\n",
    "                    te = []\n",
    "                    for j in range(Q2.shape[0]): # iterate over available qns\n",
    "                        te.append(a*SC[j][i][0]+b*SC[j][i][1]+c*SC[j][i][2]+d*SC[j][i][3]) # composer score\n",
    "                    x = te.index(max(te)) # get index of maximum element\n",
    "                    if Q2.loc[x,'OId'] == df.loc[i,'OId']: # if correct original qn is detected\n",
    "                        tc += 1\n",
    "                if tc >= gco: # optimal value found\n",
    "                    ga,gb,gc,gd = a,b,c,d\n",
    "                    gco = tc\n",
    "                    print(ga,gb,gc,gd,tc)\n",
    "#             print(tc)\n",
    "            \n",
    "# print(SC[0][0:2])\n",
    "# x = Q1.loc[0,a[1]]\n",
    "# y = Q2.loc[0,b[0]]\n",
    "# print(x,y)\n",
    "# print(cos_sim(x,y))\n",
    "# print(Q1.loc[0],Q1.loc[1])\n",
    "# print(Q2.loc[0])"
   ]
  },
  {
   "cell_type": "markdown",
   "id": "qUdnuwlbtZfm",
   "metadata": {
    "id": "qUdnuwlbtZfm"
   },
   "source": [
    "## Training set \n",
    "\n",
    "Train paramerters for training data using  pseudo-greedy algo"
   ]
  },
  {
   "cell_type": "code",
   "execution_count": null,
   "id": "wkiF3a9Jvef1",
   "metadata": {
    "id": "wkiF3a9Jvef1"
   },
   "outputs": [],
   "source": [
    "sp = np.linspace(0,1,2) # change last parameter for fine tuning\n",
    "gco = 0 # global count\n",
    "ga,gb,gc,gd = 0,0,0,0 # final parameter values\n",
    "import random\n",
    "k =  20\n",
    "\n",
    "random_composers = np.zeros((100,5)) # store composer values, and recall rate\n",
    "for iter in range(0,100):\n",
    "  a = random.uniform(0,1)\n",
    "  b = random.uniform(0,1)\n",
    "  c = random.uniform(0,1)\n",
    "  d = random.uniform(0,1)\n",
    "  if a==0 and b==0 and c==0 and d ==0:\n",
    "      continue\n",
    "  tc = 0 # temp count\n",
    "  count = 0\n",
    "  de = {}\n",
    "  for i in range(Q1.shape[0]): # iterate all duplicate qns\n",
    "    te = []\n",
    "    for j in range(Q2.shape[0]): # iterate over available qns\n",
    "      te.append(a*SC[j][i][0]+b*SC[j][i][1]+c*SC[j][i][2] +d*SC[j][i][3]) # composer score\n",
    "      de[j] = te[j]\n",
    "\n",
    "    x = te.index(max(te)) # get index of maximum element\n",
    "    # if Q2.loc[x,'OId'] == df.loc[i,'OId']: # if correct original qn is detected\n",
    "    #   tc += 1\n",
    "\n",
    "    temp_count= 0\n",
    "    for key, val in sorted(de.items(), key= lambda item: item[1], reverse=True):\n",
    "      \n",
    "      if (temp_count<k):\n",
    "        if Q2.loc[key,'OId'] == df.loc[i,'OId']:\n",
    "          count+=1\n",
    "          break\n",
    "        temp_count+=1\n",
    "      else:\n",
    "        break\n",
    "    \n",
    "  random_composers[iter] = [a,b,c,d,count]\n",
    "  print(count)\n",
    "  if count >= gco: # optimal value found\n",
    "    ga,gb,gc,gd = a,b,c,d\n",
    "    gco = count\n",
    "    print(ga,gb,gc,gd,count)\n",
    "#             print(tc)\n",
    "\n",
    "np.save(\"composer_score_recall.npy\",random_composers)"
   ]
  },
  {
   "cell_type": "code",
   "execution_count": null,
   "id": "3UX9uxCn4thb",
   "metadata": {
    "colab": {
     "base_uri": "https://localhost:8080/"
    },
    "collapsed": true,
    "id": "3UX9uxCn4thb",
    "outputId": "5ec03eb0-e840-4762-f6b2-2c1724844008"
   },
   "outputs": [
    {
     "name": "stdout",
     "output_type": "stream",
     "text": [
      "[[7.66942e-01 5.58142e-01 6.18187e-01 6.34700e-01 1.99000e+02]\n",
      " [2.17466e-01 1.05721e-01 1.32979e-01 2.32762e-01 1.62000e+02]\n",
      " [9.51983e-01 2.02783e-01 1.82110e-01 6.85130e-01 1.63000e+02]\n",
      " [7.38470e-01 3.30363e-01 6.36086e-01 3.34402e-01 2.11000e+02]\n",
      " [1.56423e-01 3.74802e-01 5.38216e-01 6.18922e-01 1.42000e+02]\n",
      " [6.82558e-01 6.49785e-01 1.05780e-01 6.58650e-02 2.20000e+02]\n",
      " [1.58002e-01 1.15691e-01 4.67325e-01 7.79302e-01 1.06000e+02]\n",
      " [5.53511e-01 3.03638e-01 9.15385e-01 4.70785e-01 1.92000e+02]\n",
      " [5.42153e-01 3.85910e-02 2.75130e-01 8.72434e-01 1.08000e+02]\n",
      " [7.87837e-01 5.04500e-02 6.64494e-01 6.73860e-02 2.01000e+02]\n",
      " [5.42881e-01 1.27414e-01 9.72143e-01 4.86363e-01 1.81000e+02]\n",
      " [7.41424e-01 7.03198e-01 1.13026e-01 8.03548e-01 1.37000e+02]\n",
      " [8.65406e-01 3.01960e-02 3.72710e-02 1.07926e-01 1.89000e+02]\n",
      " [8.48243e-01 2.40763e-01 2.63083e-01 5.70242e-01 1.82000e+02]\n",
      " [6.08890e-02 6.20750e-02 1.24436e-01 4.03780e-02 1.96000e+02]\n",
      " [7.41341e-01 1.18998e-01 6.38528e-01 4.07312e-01 2.05000e+02]\n",
      " [8.04082e-01 9.28364e-01 8.03840e-02 3.49664e-01 2.07000e+02]\n",
      " [7.80662e-01 5.92964e-01 3.41760e-02 7.71389e-01 1.32000e+02]\n",
      " [6.39339e-01 6.53098e-01 2.76089e-01 8.67045e-01 1.33000e+02]\n",
      " [6.32719e-01 9.67628e-01 4.39451e-01 1.76224e-01 2.21000e+02]\n",
      " [5.69581e-01 5.43977e-01 3.36691e-01 5.26253e-01 1.89000e+02]\n",
      " [9.27868e-01 8.19826e-01 7.32873e-01 2.80840e-01 2.15000e+02]\n",
      " [9.70958e-01 8.21975e-01 6.76727e-01 9.63220e-01 1.87000e+02]\n",
      " [2.84503e-01 3.50147e-01 4.08409e-01 7.15826e-01 1.24000e+02]\n",
      " [7.12453e-01 8.20980e-02 8.56307e-01 8.20935e-01 1.74000e+02]\n",
      " [7.64556e-01 8.00099e-01 5.75661e-01 3.03791e-01 2.20000e+02]\n",
      " [7.44846e-01 2.98547e-01 3.34538e-01 9.75134e-01 1.26000e+02]\n",
      " [8.02612e-01 4.33711e-01 3.28863e-01 5.62648e-01 1.92000e+02]\n",
      " [4.99235e-01 4.81747e-01 6.96128e-01 1.72954e-01 2.04000e+02]\n",
      " [7.18065e-01 1.95047e-01 9.24078e-01 5.79042e-01 1.92000e+02]\n",
      " [2.91692e-01 6.61357e-01 5.80548e-01 6.58915e-01 1.69000e+02]\n",
      " [9.06198e-01 3.48199e-01 9.50190e-01 7.94156e-01 1.92000e+02]\n",
      " [2.84142e-01 2.25574e-01 9.21450e-02 6.70214e-01 8.70000e+01]\n",
      " [5.30421e-01 8.69528e-01 9.92627e-01 9.85247e-01 1.80000e+02]\n",
      " [7.75899e-01 4.51664e-01 3.71261e-01 5.77311e-01 1.93000e+02]\n",
      " [3.39568e-01 8.25889e-01 7.11307e-01 9.69700e-01 1.50000e+02]\n",
      " [5.45636e-01 3.94739e-01 3.11389e-01 1.89440e-02 2.13000e+02]\n",
      " [6.75122e-01 3.87282e-01 2.64645e-01 2.34630e-01 2.17000e+02]\n",
      " [6.32860e-02 8.81360e-01 7.04620e-02 7.52858e-01 8.10000e+01]\n",
      " [8.00650e-01 2.15884e-01 5.38861e-01 7.82570e-02 2.08000e+02]\n",
      " [5.07010e-01 4.10105e-01 8.22098e-01 9.41583e-01 1.61000e+02]\n",
      " [2.11675e-01 1.32845e-01 1.61147e-01 9.19890e-01 7.10000e+01]\n",
      " [6.49115e-01 7.52273e-01 5.38644e-01 5.11955e-01 2.04000e+02]\n",
      " [3.76474e-01 1.33885e-01 7.78747e-01 3.58668e-01 1.78000e+02]\n",
      " [4.78956e-01 1.77797e-01 1.58340e-02 8.41376e-01 8.50000e+01]\n",
      " [5.48844e-01 8.48770e-02 4.59524e-01 8.90379e-01 1.27000e+02]\n",
      " [6.28044e-01 4.44744e-01 2.83690e-01 3.96732e-01 2.05000e+02]\n",
      " [3.73407e-01 9.47995e-01 4.65775e-01 7.05050e-02 2.16000e+02]\n",
      " [6.49233e-01 1.36986e-01 3.83878e-01 7.80701e-01 1.41000e+02]\n",
      " [3.90467e-01 2.52488e-01 9.30718e-01 3.96125e-01 1.81000e+02]\n",
      " [2.26422e-01 5.43012e-01 4.02187e-01 1.14959e-01 2.12000e+02]\n",
      " [9.48210e-01 2.50089e-01 4.52758e-01 9.91939e-01 1.50000e+02]\n",
      " [8.75770e-02 1.37988e-01 8.03973e-01 5.09297e-01 1.57000e+02]\n",
      " [2.77108e-01 2.71836e-01 7.65121e-01 9.19653e-01 1.29000e+02]\n",
      " [8.48561e-01 6.45345e-01 7.28716e-01 9.76524e-01 1.78000e+02]\n",
      " [6.74246e-01 6.91110e-02 8.72774e-01 3.62002e-01 1.94000e+02]\n",
      " [5.55405e-01 7.51342e-01 1.04346e-01 7.53825e-01 1.30000e+02]\n",
      " [6.45579e-01 2.89120e-02 4.40034e-01 5.97605e-01 1.74000e+02]\n",
      " [8.99835e-01 1.19119e-01 6.31237e-01 1.13064e-01 2.04000e+02]\n",
      " [3.56453e-01 1.23507e-01 4.51346e-01 2.97699e-01 1.93000e+02]\n",
      " [5.09386e-01 3.71993e-01 6.82847e-01 5.09912e-01 1.92000e+02]\n",
      " [4.98966e-01 2.61070e-01 6.31727e-01 7.37440e-01 1.67000e+02]\n",
      " [9.68999e-01 2.15437e-01 7.55694e-01 9.03443e-01 1.87000e+02]\n",
      " [8.54367e-01 7.19561e-01 7.08422e-01 1.34713e-01 2.12000e+02]\n",
      " [9.15839e-01 1.12530e-01 8.03762e-01 8.56809e-01 1.86000e+02]\n",
      " [5.26323e-01 8.36091e-01 2.33539e-01 5.41543e-01 1.84000e+02]\n",
      " [5.53644e-01 6.30396e-01 8.73202e-01 6.94141e-01 1.91000e+02]\n",
      " [5.97906e-01 9.23829e-01 7.04099e-01 3.44980e-02 2.13000e+02]\n",
      " [2.70773e-01 4.07912e-01 3.95467e-01 3.19745e-01 1.98000e+02]\n",
      " [2.02398e-01 4.86599e-01 8.13670e-01 6.50756e-01 1.66000e+02]\n",
      " [8.54362e-01 1.22432e-01 9.97525e-01 2.36078e-01 2.00000e+02]\n",
      " [5.73241e-01 8.90164e-01 6.98705e-01 3.45872e-01 2.13000e+02]\n",
      " [5.96190e-01 1.85932e-01 4.10919e-01 4.07846e-01 1.98000e+02]\n",
      " [4.56931e-01 4.29875e-01 8.52557e-01 6.92760e-02 1.94000e+02]\n",
      " [8.31909e-01 9.14659e-01 6.98549e-01 9.62614e-01 1.79000e+02]\n",
      " [3.08619e-01 8.27280e-02 5.91427e-01 1.06553e-01 1.88000e+02]\n",
      " [5.42432e-01 9.75417e-01 5.57060e-01 3.03418e-01 2.17000e+02]\n",
      " [2.41027e-01 3.48309e-01 4.65930e-02 1.68895e-01 1.97000e+02]\n",
      " [7.74938e-01 5.46871e-01 5.61548e-01 6.48956e-01 1.98000e+02]\n",
      " [6.85942e-01 3.44313e-01 5.77261e-01 6.47172e-01 1.90000e+02]\n",
      " [1.69921e-01 1.17818e-01 3.24939e-01 5.56716e-01 1.13000e+02]\n",
      " [9.77921e-01 5.10177e-01 3.74534e-01 7.43830e-02 2.20000e+02]\n",
      " [6.70176e-01 1.86575e-01 9.64287e-01 8.93200e-03 1.87000e+02]\n",
      " [1.56573e-01 3.30135e-01 5.32867e-01 5.35292e-01 1.52000e+02]\n",
      " [4.41885e-01 9.41637e-01 9.69367e-01 3.52674e-01 2.02000e+02]\n",
      " [4.35629e-01 9.05984e-01 5.06719e-01 8.39405e-01 1.55000e+02]\n",
      " [9.29257e-01 1.74096e-01 6.15376e-01 8.38044e-01 1.82000e+02]\n",
      " [4.94480e-01 5.29533e-01 5.28384e-01 6.63570e-02 2.11000e+02]\n",
      " [7.95329e-01 9.91130e-02 2.50191e-01 8.61680e-02 2.12000e+02]\n",
      " [2.10999e-01 7.73973e-01 7.66154e-01 4.39187e-01 1.86000e+02]\n",
      " [1.10238e-01 9.42208e-01 4.86400e-02 5.37870e-01 1.01000e+02]\n",
      " [7.28920e-01 8.93710e-01 3.10450e-01 1.20093e-01 2.19000e+02]\n",
      " [4.40980e-01 4.73525e-01 9.78824e-01 6.82470e-02 1.88000e+02]\n",
      " [4.61929e-01 4.91214e-01 2.97610e-02 9.88452e-01 8.50000e+01]\n",
      " [1.29442e-01 3.90604e-01 7.44070e-02 2.73949e-01 1.33000e+02]\n",
      " [5.80822e-01 3.95798e-01 3.38760e-01 7.51439e-01 1.44000e+02]\n",
      " [2.14532e-01 6.90200e-02 1.71648e-01 4.46605e-01 1.08000e+02]\n",
      " [1.15839e-01 2.26835e-01 7.88536e-01 1.07000e-03 1.46000e+02]\n",
      " [5.01567e-01 5.63410e-02 3.59381e-01 6.52729e-01 1.38000e+02]\n",
      " [6.89313e-01 1.86695e-01 5.42411e-01 3.02084e-01 2.11000e+02]]\n"
     ]
    }
   ],
   "source": [
    "arr = np.loadtxt(\"composer_score_recall_float.npy\")\n",
    "print(arr)\n",
    "# np.savetxt(\"composer_score_recall_float.npy\",arr, fmt='%f')"
   ]
  },
  {
   "cell_type": "markdown",
   "id": "b52fdafd",
   "metadata": {},
   "source": [
    "# Optimal Values for the variables"
   ]
  },
  {
   "cell_type": "code",
   "execution_count": null,
   "id": "CJtqs1ENrWNE",
   "metadata": {
    "colab": {
     "base_uri": "https://localhost:8080/"
    },
    "id": "CJtqs1ENrWNE",
    "outputId": "ab54f01c-1092-4971-bc30-7d8825c97939"
   },
   "outputs": [
    {
     "name": "stdout",
     "output_type": "stream",
     "text": [
      "0.8 0.51 0.01 0.37\n"
     ]
    }
   ],
   "source": [
    "ga = .8\n",
    "gb = .51\n",
    "gd = .37\n",
    "gc = .01\n",
    "print(ga,gb,gc,gd)"
   ]
  },
  {
   "cell_type": "markdown",
   "id": "a-ViC28Gs6iL",
   "metadata": {
    "id": "a-ViC28Gs6iL"
   },
   "source": [
    "### Rough"
   ]
  },
  {
   "cell_type": "code",
   "execution_count": null,
   "id": "e3dd3b85",
   "metadata": {
    "id": "e3dd3b85"
   },
   "outputs": [],
   "source": [
    "sp = np.linspace(0,1,2) # change last parameter for fine tuning\n",
    "gco = 0 # global count\n",
    "# ga,gb,gc = 0,0,0 # final parameter values\n",
    "\n",
    "# a = 0.81\n",
    "# b = 0.91\n",
    "# c = 0.57\n",
    "a = .89\n",
    "b = .966\n",
    "c = .50\n",
    "d = 0.03\n",
    "# if a==0 and b==0 and c==0:\n",
    "    # continue\n",
    "tc = 0 # temp count\n",
    "k =  5\n",
    "count = 0\n",
    "de = {}\n",
    "for i in range(Q1.shape[0]): # iterate all duplicate qns\n",
    "    te = []\n",
    "    for j in range(Q2.shape[0]): # iterate over available qns\n",
    "        te.append(ga*SC[j][i][0]+gb*SC[j][i][1]+gc*SC[j][i][2] + gd*SC[j][i][3]) # composer score\n",
    "        de[j] = te[j]\n",
    "\n",
    "    x = te.index(max(te)) # get index of maximum element\n",
    "    if Q2.loc[x,'OId'] == df.loc[i,'OId']: # if correct original qn is detected\n",
    "        tc += 1\n",
    "    temp_count= 0\n",
    "    for key, val in sorted(de.items(), key= lambda item: item[1], reverse=True):\n",
    "      if (temp_count<k):\n",
    "        if Q2.loc[key,'OId'] == df.loc[i,'OId']:\n",
    "          count+=1\n",
    "          break\n",
    "        temp_count+=1\n",
    "      else:\n",
    "        break"
   ]
  },
  {
   "cell_type": "code",
   "execution_count": null,
   "id": "MHr3v1UhqVRl",
   "metadata": {
    "colab": {
     "base_uri": "https://localhost:8080/"
    },
    "id": "MHr3v1UhqVRl",
    "outputId": "c38eb69a-6f6a-44d4-d633-39faa4640aaf"
   },
   "outputs": [
    {
     "name": "stdout",
     "output_type": "stream",
     "text": [
      "144\n"
     ]
    }
   ],
   "source": [
    "print(count)"
   ]
  },
  {
   "cell_type": "markdown",
   "id": "p-QtTAsh4Ci2",
   "metadata": {
    "id": "p-QtTAsh4Ci2"
   },
   "source": [
    "## Studying the effects of each component in decision making"
   ]
  },
  {
   "cell_type": "code",
   "execution_count": 27,
   "id": "BjddwItZ4F6r",
   "metadata": {
    "colab": {
     "base_uri": "https://localhost:8080/"
    },
    "id": "BjddwItZ4F6r",
    "outputId": "3c85c7d2-60ef-4a80-e53e-ff41cecdff2a"
   },
   "outputs": [
    {
     "name": "stdout",
     "output_type": "stream",
     "text": [
      "Recall-Rate@5=  0.26166666666666666\n",
      "Recall-Rate@10=  0.33166666666666667\n",
      "Recall-Rate@20=  0.3983333333333333\n"
     ]
    }
   ],
   "source": [
    "tc = 0 # temp count\n",
    "k =  20\n",
    "count = [0,0,0] # 5,10,20\n",
    "ga,gb,gc = 1, 1, 1 # normalised\n",
    "# print(ga,gb,gc,gd)\n",
    "original_data = df[['OId','OTitle','OBody','OTags']].loc[300:1500-1].copy() # original qns\n",
    "test_data = df[['DId','DTitle','DBody','DTags']].loc[300:1500-1].copy() # doop qns\n",
    "for i in range(300,300+test_data.shape[0]): # iterate all duplicate qns\n",
    "    de = {}\n",
    "    te = []\n",
    "    # print(test_data.loc[i,'DTags'])\n",
    "    x = TokStem(hbt(test_data.loc[i,'DBody']),0)\n",
    "    y = rmTags(test_data.loc[i,'DTags']).split()\n",
    "    z = TokStem(hbt(test_data.loc[i,'DTitle']),0)\n",
    "    \n",
    "    # text = (x+ y)\n",
    "\n",
    "    # corp = id2word.doc2bow(text)\n",
    "\n",
    "    # wa, wb = np.array(lda_model[corp])[:,1], lda_train[i]\n",
    "        \n",
    "    b= ['OTitle','OBody','OTags']\n",
    "    for j in range(Q2.shape[0]): # iterate over available qns\n",
    "    #     wa, wb = np.array(lda_model[corp])[:,1], lda_train[j] # lda train has Q1 qns and then Q2 qns\n",
    "    #     topic_similarity = np.dot(wa,wb)/(np.linalg.norm(wa)*np.linalg.norm(wb))# TopicSC\n",
    "    #     if (np.isnan(topic_similarity)):\n",
    "    #       topic_similarity = 0\n",
    "        # te.append(ga*cos_sim(z,Q2.loc[j,b[0]].split()) + gb*cos_sim(x,Q2.loc[j,b[1]].split())+ gc*cos_sim(y,Q2.loc[j,b[2]].split()) + gd*topic_similarity) # composer score\n",
    "        te.append(cos_sim(y,Q2.loc[j,b[2]].split())) # composer score\n",
    "        de[j] = te[j]\n",
    "\n",
    "    # x = te.index(max(te)) # get index of maximum element\n",
    "    # if Q2.loc[x,'OId'] == df.loc[i,'OId']: # if correct original qn is detected\n",
    "    #     tc += 1\n",
    "    temp_count= 0\n",
    "    iter_temp = sorted(de.items(), key= lambda item: item[1], reverse=True)\n",
    "    ### For k = 5\n",
    "    k = 5\n",
    "    for key, val in iter_temp:\n",
    "      if (temp_count<k):\n",
    "        if Q2.loc[key,'OId'] == df.loc[i,'OId']:\n",
    "          count[0]+=1\n",
    "          break\n",
    "        temp_count+=1\n",
    "      else:\n",
    "        break\n",
    "    # print(\"R@5 - \",count[0])\n",
    "    ###m For k = 10\n",
    "    temp_count = 0\n",
    "    k = 10\n",
    "    for key, val in iter_temp:\n",
    "      if (temp_count<k):\n",
    "        if Q2.loc[key,'OId'] == df.loc[i,'OId']:\n",
    "          count[1]+=1\n",
    "          break\n",
    "        temp_count+=1\n",
    "      else:\n",
    "        break\n",
    "    # print(\"R@10 : \",count[1])\n",
    "     ###m For k = 20\n",
    "    k = 20\n",
    "    temp_count = 0\n",
    "    for key, val in iter_temp:\n",
    "      if (temp_count<k):\n",
    "        if Q2.loc[key,'OId'] == df.loc[i,'OId']:\n",
    "          count[2]+=1\n",
    "          break\n",
    "        temp_count+=1\n",
    "      else:\n",
    "        break\n",
    "    # print(\"R@20 :- \",count[2])\n",
    "print(\"Recall-Rate@5= \", count[0]/1200)\n",
    "print(\"Recall-Rate@10= \", count[1]/1200)\n",
    "print(\"Recall-Rate@20= \", count[2]/1200)\n"
   ]
  },
  {
   "cell_type": "markdown",
   "id": "uvhgLL7t3C6Q",
   "metadata": {
    "id": "uvhgLL7t3C6Q"
   },
   "source": [
    "### For Title only analyser: (10min)\n",
    "\n",
    "Recall-Rate@5=  0.30666666666666664\n",
    "\n",
    "Recall-Rate@10=  0.375\n",
    "\n",
    "Recall-Rate@20=  0.44583333333333336\n",
    "\n",
    "### For Body only analyser: (1hr)\n",
    "\n",
    "Recall-Rate@5=  0.2525\n",
    "\n",
    "Recall-Rate@10=  0.30666666666666664\n",
    "\n",
    "Recall-Rate@20=  0.37666666666666665\n",
    "\n",
    "### For Tag only analyser: (4min)\n",
    "\n",
    "Recall-Rate@5=  0.26166666666666666\n",
    "\n",
    "Recall-Rate@10=  0.33166666666666667\n",
    "\n",
    "Recall-Rate@20=  0.3983333333333333\n",
    "\n",
    "\n"
   ]
  },
  {
   "cell_type": "markdown",
   "id": "h_BUQOkFbTro",
   "metadata": {
    "id": "h_BUQOkFbTro"
   },
   "source": [
    "# Return top 'k' questions"
   ]
  },
  {
   "cell_type": "code",
   "execution_count": 43,
   "id": "go-BXRVfbn56",
   "metadata": {
    "colab": {
     "base_uri": "https://localhost:8080/"
    },
    "id": "go-BXRVfbn56",
    "outputId": "d7601c2c-ff17-4f4a-9a21-1c20421a448e"
   },
   "outputs": [],
   "source": [
    "def top_k_qn(title,body,tags,k):\n",
    "    tc = 0 # temp count\n",
    "#     k =  5 ###### select the k value required\n",
    "    count = 0\n",
    "    de = {}\n",
    "    ga,gb,gc,gd = 0.8,0.51,0.37,0.01\n",
    "    print(ga,gb,gc)\n",
    "    fs = '' ## string to store the output serial stream\n",
    "    te = []\n",
    "    # print(test_data.loc[i,'DTags'])\n",
    "    x = TokStem(hbt(title),0)\n",
    "    y = rmTags(body).split()\n",
    "    z = TokStem(hbt(tags),0)\n",
    "\n",
    "    text = (x+ y)\n",
    "    corp = id2word.doc2bow(text)\n",
    "    wa, wb = np.array(lda_model[corp])[:,1], lda_train[i]\n",
    "\n",
    "    b= ['OTitle','OBody','OTags']\n",
    "    temp_count= 0\n",
    "\n",
    "    for j in range(Q2.shape[0]): # iterate over available qns\n",
    "        wa, wb = np.array(lda_model[corp])[:,1], lda_train[j] # lda train has Q1 qns and then Q2 qns\n",
    "        topic_similarity = np.dot(wa,wb)/(np.linalg.norm(wa)*np.linalg.norm(wb))# TopicSC\n",
    "        if (np.isnan(topic_similarity)):\n",
    "          topic_similarity = 0\n",
    "        te.append(ga*cos_sim(z,Q2.loc[j,b[0]].split()) + gb*cos_sim(x,Q2.loc[j,b[1]].split())+ gc*cos_sim(y,Q2.loc[j,b[2]].split()) + gd*topic_similarity) # composer score\n",
    "        de[j] = te[j]\n",
    "    # x = te.index(max(te)) # get index of maximum element\n",
    "    # if Q2.loc[x,'OId'] == df.loc[i,'OId']: # if correct original qn is detected\n",
    "    #     tc += 1\n",
    "\n",
    "    for key, val in sorted(de.items(), key= lambda item: item[1], reverse=True):\n",
    "      # if temp_count == 0:\n",
    "      #   temp_count += 1\n",
    "      #   continue\n",
    "#       print(\" ----- Question ---- \", temp_count)\n",
    "      fs += \"\\n \\n ----- Question \" + str(temp_count) + \"----\\n\"\n",
    "      fs += \"\\n Score---> \" +  str(round(val,4))\n",
    "#       print(\"Title --->\", df.loc[key,'OTitle'])\n",
    "      fs +=  \"\\n Title ---> \" + str(df.loc[key,'OTitle'])\n",
    "#       print(\"Question --->\", df.loc[key,'OBody'])\n",
    "      fs += \"\\n Body ---> \" + str(df.loc[key,'OBody'])\n",
    "#       print(\"Tags --->\", df.loc[key,'OTags'])\n",
    "      fs += \"\\n Tags ---> \" + str(df.loc[key,'OTags'])\n",
    "      # print(Q2.loc[key], df.loc[no])\n",
    "      fs += \"\\n---------------------------------------------------------------\"\n",
    "      if (temp_count<k):\n",
    "        temp_count+=1\n",
    "      else:\n",
    "        break\n",
    "    return fs\n",
    "#       print(fs)\n",
    "\n",
    "# top_k_qn(\"Choosing a database type\", \"<p>When would you use a bigtabe/simpledb database vs a Relational database?</p>\",\"<architecture><relational><amazon-simpledb><bigtable>\")"
   ]
  },
  {
   "cell_type": "code",
   "execution_count": 31,
   "id": "e3e24118",
   "metadata": {},
   "outputs": [],
   "source": [
    "######### import the required libraries\n",
    "import tkinter as tk\n",
    "from tkinter import *\n",
    "from tkinter import ttk\n",
    "from tkinter import filedialog as fd\n",
    "from tkinter.messagebox import showinfo\n",
    "from PIL import ImageTk,Image\n",
    "import time \n",
    "import matplotlib.pyplot as plt\n",
    "import tkinter.scrolledtext as scrolledtext"
   ]
  },
  {
   "cell_type": "code",
   "execution_count": 56,
   "id": "GiR1GjqjB8uJ",
   "metadata": {
    "colab": {
     "base_uri": "https://localhost:8080/",
     "height": 636
    },
    "id": "GiR1GjqjB8uJ",
    "outputId": "7505f68e-9583-400a-8618-4f04259df022"
   },
   "outputs": [
    {
     "name": "stdout",
     "output_type": "stream",
     "text": [
      "Title Entered: title database\n",
      "Body Entered: body database\n",
      "Tags Entered: tags database\n",
      "K-value Entered: 10\n",
      "0.8 0.51 0.37\n"
     ]
    },
    {
     "name": "stderr",
     "output_type": "stream",
     "text": [
      "<ipython-input-11-d24be59fa1d4>:37: RuntimeWarning: invalid value encountered in double_scalars\n",
      "  ans = np.dot(wa,wb)/(np.linalg.norm(wa)*np.linalg.norm(wb))\n"
     ]
    }
   ],
   "source": [
    "\n",
    "\n",
    "# !apt-get install -y xvfb # Install X Virtual Frame Buffer\n",
    "# import os\n",
    "# os.system('Xvfb :1 -screen 0 1600x1200x16  &')    # create virtual display with size 1600x1200 and 16 bit color. Color can be changed to 24 or 8\n",
    "# os.environ['DISPLAY']=':1.0'    # tell X clients to use our virtual DISPLAY :1.0\n",
    "\n",
    "######### create the root window\n",
    "root = tk.Tk()\n",
    "root.title('Similar Question detector')\n",
    "root.resizable(True, True)\n",
    "root.geometry('1920x1080')\n",
    "#root.config(bg='yellow')\n",
    "\n",
    "my_frame = Frame(root, width=576, height=324,bg='black')\n",
    "my_frame.pack(fill=\"both\", expand=True)\n",
    "\n",
    "img = ImageTk.PhotoImage(file=\"bg.jpg\")\n",
    "label = Label(\n",
    "    my_frame,\n",
    "    image=img\n",
    ")\n",
    "label.place(x=0, y=0)\n",
    "\n",
    "####################### global &/ initialisations\n",
    "title,body,tag = \"Title\",\"Body\",\"Tag\" # Entries to be entered by the user\n",
    "titles = [\"one\",\"two\",\"three\"]\n",
    "kval = 5\n",
    "\n",
    "#######################\n",
    "\n",
    "def on_change1(tite): # retrieve the title entered\n",
    "    global title,titles\n",
    "    title = tite.widget.get()\n",
    "    print(\"Title Entered:\",title)\n",
    "\n",
    "def on_change2(bode): # retrieve the body entered\n",
    "    global body\n",
    "    body = bode.widget.get()\n",
    "    print(\"Body Entered:\",body)\n",
    "\n",
    "def on_change3(tage): # retrieve the tags entered\n",
    "    global tag\n",
    "    tag = tage.widget.get()\n",
    "    print(\"Tags Entered:\",tag)\n",
    "    \n",
    "def on_change4(ke): # retrieve the k-value entered\n",
    "    global kval\n",
    "    kval = int(ke.widget.get())\n",
    "    print(\"K-value Entered:\",kval)\n",
    "\n",
    "def sub():\n",
    "    global title, body, tag\n",
    "    fs = top_k_qn(title,body,tag,kval)\n",
    "    txt.delete('1.0', END)\n",
    "    txt.insert('insert', fs,\"\\n\")\n",
    "\n",
    "    \n",
    "\n",
    "########################\n",
    "\n",
    "# entry for title =====\n",
    "L2 = Label(root, text=\"Enter the Title:\",fg='black',bg='white')\n",
    "L2.pack( side = LEFT)\n",
    "L2.place( x = 50,y=50)\n",
    "tite=Entry(root, bd=2,textvariable=title)\n",
    "tite.pack()\n",
    "tite.place(x=180, y=45,width = 1600, height=30)\n",
    "tite.bind(\"<Return>\",on_change1)\n",
    "\n",
    "# entry for body =====\n",
    "L3 = Label(root, text=\"Enter the Body:\",fg='black',bg='white')\n",
    "L3.pack( side = LEFT)\n",
    "L3.place(x=50,y=90)\n",
    "bode=Entry(root, bd=2,textvariable=body)\n",
    "bode.pack()\n",
    "bode.place(x=180, y=85,width = 1600, height=30)\n",
    "bode.bind(\"<Return>\",on_change2)\n",
    "\n",
    "# entry for tags =====\n",
    "L4 = Label(root, text=\"Enter the Tags:\",fg='black',bg='white')\n",
    "L4.pack( side = LEFT)\n",
    "L4.place( x = 50,y=130)\n",
    "tage=Entry(root, bd=2,textvariable=tag)\n",
    "tage.pack()\n",
    "tage.place(x=180, y=125,width = 1600, height=30)\n",
    "tage.bind(\"<Return>\",on_change3)\n",
    "\n",
    "# entry for k value =====\n",
    "L5 = Label(root, text=\"Enter k-value:\",fg='black',bg='white')\n",
    "L5.pack( side = LEFT)\n",
    "L5.place( x = 50,y=170)\n",
    "ke=Entry(root, bd=2,textvariable=kval)\n",
    "ke.pack()\n",
    "ke.place(x=180, y=165,width = 100, height=30)\n",
    "ke.bind(\"<Return>\",on_change4)\n",
    "\n",
    "#####################\n",
    "\n",
    "# open button 1 ======> submit button\n",
    "open_button_1 = Button(root,bg='black', fg='white', text='Submit',command=sub)\n",
    "open_button_1.pack(expand=True)\n",
    "open_button_1.place(x=950, y=200) #1238,400\n",
    "\n",
    "txt = scrolledtext.ScrolledText(root, undo=True, wrap='word',width=150,height=40)\n",
    "txt['font'] = ('consolas', '12')\n",
    "txt.pack(expand=True, fill='both')\n",
    "txt.place(x=200, y=250)\n",
    "\n",
    "########################\n",
    "\n",
    "# run the application\n",
    "root.mainloop()\n"
   ]
  }
 ],
 "metadata": {
  "colab": {
   "collapsed_sections": [
    "ApEyoFxZnTCU"
   ],
   "name": "Copy of Primary.ipynb",
   "provenance": []
  },
  "kernelspec": {
   "display_name": "Python 3 (ipykernel)",
   "language": "python",
   "name": "python3"
  },
  "language_info": {
   "codemirror_mode": {
    "name": "ipython",
    "version": 3
   },
   "file_extension": ".py",
   "mimetype": "text/x-python",
   "name": "python",
   "nbconvert_exporter": "python",
   "pygments_lexer": "ipython3",
   "version": "3.8.10"
  }
 },
 "nbformat": 4,
 "nbformat_minor": 5
}
