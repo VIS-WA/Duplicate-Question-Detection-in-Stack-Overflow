{
 "cells": [
  {
   "cell_type": "markdown",
   "id": "07ba09d5",
   "metadata": {},
   "source": [
    "## Libraries"
   ]
  },
  {
   "cell_type": "code",
   "execution_count": 2,
   "id": "c7ff9669",
   "metadata": {},
   "outputs": [],
   "source": [
    "# libraries\n",
    "import nltk #NLP lib\n",
    "import numpy as np # numpy for arrays\n",
    "import pandas as pd # pandas lib for data handling\n",
    "from nltk.corpus import stopwords # common eng sstopwords\n",
    "from nltk.stem import PorterStemmer #porter stemmer algo\n",
    "from nltk.tokenize import sent_tokenize, word_tokenize\n",
    "from bs4 import BeautifulSoup # HTML to txt\n",
    "\n",
    "ps = PorterStemmer()\n",
    "sw_nltk = stopwords.words('english') # bag of all common english stop words"
   ]
  },
  {
   "cell_type": "markdown",
   "id": "79c1d140",
   "metadata": {},
   "source": [
    "## Supporting Functions"
   ]
  },
  {
   "cell_type": "code",
   "execution_count": 3,
   "id": "6e7c8352",
   "metadata": {},
   "outputs": [],
   "source": [
    "def TokStem(text,j): # Tokenise and Stem the given text\n",
    "    words = [word for word in text.split() if word.lower() not in sw_nltk] # bag of tokenised words\n",
    "    final = []\n",
    "    for w in words:\n",
    "        final.append(ps.stem(w))\n",
    "    if j==1: # give a string\n",
    "        return \" \".join(final)\n",
    "    return final\n",
    "text = \"When I first met her she was very quiet. She remained quiet during the entire two hour long journey from Stony Brook to New York.\"\n",
    "x = TokStem(text,0)"
   ]
  },
  {
   "cell_type": "code",
   "execution_count": 4,
   "id": "380a8695",
   "metadata": {},
   "outputs": [],
   "source": [
    "def hbt(text): # convert HTML body to text\n",
    "    return BeautifulSoup(text).get_text()"
   ]
  },
  {
   "cell_type": "code",
   "execution_count": 47,
   "id": "8b0aae97",
   "metadata": {},
   "outputs": [],
   "source": [
    "def rmTag(text): # convert tags to text\n",
    "    st,out = [],[]\n",
    "    for i in text:\n",
    "        if i == '<':\n",
    "            st = []\n",
    "        elif i == '>':\n",
    "            st += ' '\n",
    "            out += st\n",
    "        else:\n",
    "            st += i\n",
    "    return \"\".join(out[:-1]) # remove the last space"
   ]
  },
  {
   "cell_type": "code",
   "execution_count": 46,
   "id": "f6c66e83",
   "metadata": {},
   "outputs": [
    {
     "name": "stdout",
     "output_type": "stream",
     "text": [
      "<xz><y><w>\n",
      "xz y w 6\n",
      "<xz><y><w\n"
     ]
    }
   ],
   "source": [
    "x = \"<xz><y>\"\n",
    "x += \"<w>\"\n",
    "print(x)\n",
    "y = rmTag(x)\n",
    "print(y,len(y))\n",
    "print(x[:-1])"
   ]
  },
  {
   "cell_type": "code",
   "execution_count": 5,
   "id": "4f928ba7",
   "metadata": {},
   "outputs": [],
   "source": [
    "def cos_sim(a,b): # finding cosine similarity score for given 2 strings\n",
    "    # input two strings that are split into words\n",
    "    us = [] # creating union set\n",
    "    us += b\n",
    "    for x in a:\n",
    "        if x not in b:\n",
    "            us.append(x)\n",
    "    freqa,freqb,frequ = dict(),dict(),dict()\n",
    "    wa,wb = [], []\n",
    "\n",
    "    for word in a: # freq bag for string a\n",
    "        if word in freqa:\n",
    "            freqa[word] += 1\n",
    "        else:\n",
    "            freqa[word] = 1\n",
    "    for word in b:# freq bag for string b\n",
    "        if word in freqb:\n",
    "            freqb[word] += 1\n",
    "        else:\n",
    "            freqb[word] = 1\n",
    "    for word in us: # freq bag for union of a and b\n",
    "        if word in frequ:\n",
    "            frequ[word] += 1\n",
    "        else:\n",
    "            frequ[word] = 1\n",
    "    \n",
    "    for i in range(len(us)): # calc TitleVec for a and b\n",
    "        x = us[i]\n",
    "        if x in a:\n",
    "            wa.append(freqa[x]/frequ[x])\n",
    "        else:\n",
    "            wa.append(0)\n",
    "        if x in b:\n",
    "            wb.append(freqb[x]/frequ[x])\n",
    "        else:\n",
    "            wb.append(0)\n",
    "    wa = np.array(wa)\n",
    "    wb = np.array(wb)\n",
    "    return np.dot(wa,wb)/(np.linalg.norm(wa)*np.linalg.norm(wb)) # cosine value"
   ]
  },
  {
   "cell_type": "code",
   "execution_count": 35,
   "id": "742bea3a",
   "metadata": {},
   "outputs": [],
   "source": []
  },
  {
   "cell_type": "markdown",
   "id": "b90b7808",
   "metadata": {},
   "source": [
    "## Loading the data "
   ]
  },
  {
   "cell_type": "code",
   "execution_count": 10,
   "id": "d3db5f33",
   "metadata": {},
   "outputs": [
    {
     "name": "stdout",
     "output_type": "stream",
     "text": [
      "<class 'pandas.core.frame.DataFrame'>\n",
      "Index(['OId', 'CreationDate', 'OTitle', 'OBody', 'OTags', 'DId', 'DTitle',\n",
      "       'DBody', 'DTags'],\n",
      "      dtype='object')\n",
      "Index(['OId', 'CreationDate', 'OTitle', 'OBody', 'OTags', 'DId', 'DTitle',\n",
      "       'DBody', 'DTags'],\n",
      "      dtype='object')\n"
     ]
    }
   ],
   "source": [
    "df = pd.read_csv('QueryResults.csv')\n",
    "print(type(df))\n",
    "print(df.columns)\n",
    "# Q = df[['OId','OTitle','OBody','OTags']]\n",
    "# print(Q.size)\n",
    "# R = df[[ 'DId', 'DTitle', 'DBody', 'DTags']]\n",
    "# P = Q.append(R,ignore_index=True)\n",
    "# print(P.size)\n",
    "# print(Q)\n",
    "# df = df.dropna(axis = 0)\n",
    "#print(df.describe())\n",
    "# df.drop(['CreationDate'], axis = 1)\n",
    "print(df.columns)\n",
    "# print(df.head())\n",
    "X_features = ['Title','Body','Tags','Topic']\n",
    "# a = df.loc[10].at[\"OBody\"]\n",
    "#print(a)\n",
    "#print(BeautifulSoup(a).get_text()) # html to text "
   ]
  },
  {
   "cell_type": "markdown",
   "id": "743b1781",
   "metadata": {},
   "source": [
    "## Data Preprocessing"
   ]
  },
  {
   "cell_type": "code",
   "execution_count": 13,
   "id": "1dc3a0d2",
   "metadata": {
    "collapsed": true
   },
   "outputs": [
    {
     "name": "stdout",
     "output_type": "stream",
     "text": [
      "(500, 4)\n"
     ]
    }
   ],
   "source": [
    "k = 500\n",
    "# duplicate questions for training (with sorting)\n",
    "Q2 = df[['OId','OTitle','OBody','OTags']].loc[0:k-1].copy() # original qns\n",
    "Q1 = df[['DId','DTitle','DBody','DTags']].loc[0:k-1].copy() # doop qns\n",
    "print(Q1.shape)\n",
    "te = []\n",
    "for i in range(k): # pickout original qns\n",
    "    x = int(Q2[['OId']].loc[i])\n",
    "    if x in te:\n",
    "        Q2.drop([i], inplace = True) # remove rows\n",
    "    else:\n",
    "        te.append(x)\n",
    "# print(Q2.shape)\n",
    "Q2 = Q2.reset_index(drop=True) # restore the indices\n",
    "# print(Q2.loc[10])\n",
    "\n",
    "# # process the body description wit tok, stem and export\n",
    "for i in range(Q2.shape[0]):\n",
    "    x = TokStem(hbt(Q2.loc[i,'OBody']),1)\n",
    "    Q2.loc[i,'OBody'] = x\n",
    "for i in range(Q1.shape[0]):\n",
    "    x = TokStem(hbt(Q1.loc[i,'DBody']),1)\n",
    "    Q1.loc[i,'DBody'] = x\n",
    "\n",
    "# Q2.to_csv('body_stem.csv') # export to CSV"
   ]
  },
  {
   "cell_type": "markdown",
   "id": "4a66a854",
   "metadata": {},
   "source": [
    "## Calculating Similarity component scores"
   ]
  },
  {
   "cell_type": "code",
   "execution_count": 57,
   "id": "10c3ad97",
   "metadata": {},
   "outputs": [
    {
     "name": "stdout",
     "output_type": "stream",
     "text": [
      "['determin', \"user'\", 'timezon']\n",
      "['javascript', 'timezon', 'inform', 'get', 'america/los_angel', '(or', 'equivalent)']\n",
      "0.2182178902359924\n",
      "['standard', 'way', 'web', 'server', 'abl', 'determin', \"user'\", 'timezon', 'within', 'web', 'page?', 'perhap', 'http', 'header', 'part', 'user-ag', 'string?']\n",
      "['im', 'wonder', 'built', 'function', 'javascript', 'timezon', 'inform', 'america/los_angel', '(or', 'equivalent)', 'determin', 'whatev', 'factor', 'need', 'factor', 'on?', 'similar', 'howev', 'http://momentjs.com/timezone/', 'home', 'page?', 'list', 'zone', 'attempt', 'build', 'librari', 'of?', 'gather', 'http://momentjs.com/timezone/', 'take', 'vaul', 'america/los_angel', 'exampl', 'determin', 'offset,', \"can't\", 'find', 'mention', 'opposite.']\n",
      "0.11826247919781652\n",
      "0.7675593050844379\n"
     ]
    }
   ],
   "source": [
    "a = ['OTitle','OBody','OTags']\n",
    "b = ['DTitle','DBody','DTags']\n",
    "for i in range(2): \n",
    "#     print(df.loc[0,a[i]])\n",
    "#     print(df.loc[0,b[i]])\n",
    "    x = TokStem(hbt(df.loc[0,a[i]]),0)\n",
    "    y = TokStem(hbt(df.loc[0,b[i]]),0)\n",
    "    print(x)\n",
    "    print(y)\n",
    "    print(cos_sim(x,y))\n",
    "i = 2\n",
    "# print(df.loc[0,a[i]])\n",
    "x = rmTag(df.loc[0,a[i]])\n",
    "y = rmTag(df.loc[0,b[i]])\n",
    "# print(x)\n",
    "# print(y)\n",
    "print(cos_sim(x,y))\n",
    "# print(cos_sim(z,y))\n",
    "# print(cos_sim(x,z))"
   ]
  },
  {
   "cell_type": "code",
   "execution_count": 45,
   "id": "360b7cee",
   "metadata": {},
   "outputs": [],
   "source": []
  }
 ],
 "metadata": {
  "kernelspec": {
   "display_name": "Python 3 (ipykernel)",
   "language": "python",
   "name": "python3"
  },
  "language_info": {
   "codemirror_mode": {
    "name": "ipython",
    "version": 3
   },
   "file_extension": ".py",
   "mimetype": "text/x-python",
   "name": "python",
   "nbconvert_exporter": "python",
   "pygments_lexer": "ipython3",
   "version": "3.8.10"
  }
 },
 "nbformat": 4,
 "nbformat_minor": 5
}
