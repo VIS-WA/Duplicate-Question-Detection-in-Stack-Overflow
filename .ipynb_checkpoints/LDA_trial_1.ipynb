{
 "cells": [
  {
   "cell_type": "code",
   "execution_count": 40,
   "metadata": {
    "id": "WMUj1syTz38G"
   },
   "outputs": [
    {
     "name": "stdout",
     "output_type": "stream",
     "text": [
      "Collecting en-core-web-sm==3.2.0\n",
      "  Downloading https://github.com/explosion/spacy-models/releases/download/en_core_web_sm-3.2.0/en_core_web_sm-3.2.0-py3-none-any.whl (13.9 MB)\n"
     ]
    },
    {
     "name": "stderr",
     "output_type": "stream",
     "text": [
      "2021-11-29 14:17:32.555525: W tensorflow/stream_executor/platform/default/dso_loader.cc:64] Could not load dynamic library 'cudart64_110.dll'; dlerror: cudart64_110.dll not found\n",
      "2021-11-29 14:17:32.555570: I tensorflow/stream_executor/cuda/cudart_stub.cc:29] Ignore above cudart dlerror if you do not have a GPU set up on your machine.\n"
     ]
    },
    {
     "name": "stdout",
     "output_type": "stream",
     "text": [
      "Requirement already satisfied: spacy<3.3.0,>=3.2.0 in c:\\users\\venka\\anaconda3\\lib\\site-packages (from en-core-web-sm==3.2.0) (3.2.0)\n",
      "Requirement already satisfied: packaging>=20.0 in c:\\users\\venka\\anaconda3\\lib\\site-packages (from spacy<3.3.0,>=3.2.0->en-core-web-sm==3.2.0) (21.0)\n",
      "Requirement already satisfied: cymem<2.1.0,>=2.0.2 in c:\\users\\venka\\anaconda3\\lib\\site-packages (from spacy<3.3.0,>=3.2.0->en-core-web-sm==3.2.0) (2.0.6)\n",
      "Requirement already satisfied: blis<0.8.0,>=0.4.0 in c:\\users\\venka\\anaconda3\\lib\\site-packages (from spacy<3.3.0,>=3.2.0->en-core-web-sm==3.2.0) (0.7.5)\n",
      "Requirement already satisfied: typer<0.5.0,>=0.3.0 in c:\\users\\venka\\anaconda3\\lib\\site-packages (from spacy<3.3.0,>=3.2.0->en-core-web-sm==3.2.0) (0.4.0)\n",
      "Requirement already satisfied: murmurhash<1.1.0,>=0.28.0 in c:\\users\\venka\\anaconda3\\lib\\site-packages (from spacy<3.3.0,>=3.2.0->en-core-web-sm==3.2.0) (1.0.6)\n",
      "Requirement already satisfied: requests<3.0.0,>=2.13.0 in c:\\users\\venka\\anaconda3\\lib\\site-packages (from spacy<3.3.0,>=3.2.0->en-core-web-sm==3.2.0) (2.26.0)\n",
      "Requirement already satisfied: catalogue<2.1.0,>=2.0.6 in c:\\users\\venka\\anaconda3\\lib\\site-packages (from spacy<3.3.0,>=3.2.0->en-core-web-sm==3.2.0) (2.0.6)\n",
      "Requirement already satisfied: jinja2 in c:\\users\\venka\\anaconda3\\lib\\site-packages (from spacy<3.3.0,>=3.2.0->en-core-web-sm==3.2.0) (2.11.3)\n",
      "Requirement already satisfied: setuptools in c:\\users\\venka\\anaconda3\\lib\\site-packages (from spacy<3.3.0,>=3.2.0->en-core-web-sm==3.2.0) (58.0.4)\n",
      "Requirement already satisfied: pydantic!=1.8,!=1.8.1,<1.9.0,>=1.7.4 in c:\\users\\venka\\anaconda3\\lib\\site-packages (from spacy<3.3.0,>=3.2.0->en-core-web-sm==3.2.0) (1.8.2)\n",
      "Requirement already satisfied: preshed<3.1.0,>=3.0.2 in c:\\users\\venka\\anaconda3\\lib\\site-packages (from spacy<3.3.0,>=3.2.0->en-core-web-sm==3.2.0) (3.0.6)\n",
      "Requirement already satisfied: spacy-loggers<2.0.0,>=1.0.0 in c:\\users\\venka\\anaconda3\\lib\\site-packages (from spacy<3.3.0,>=3.2.0->en-core-web-sm==3.2.0) (1.0.1)\n",
      "Requirement already satisfied: langcodes<4.0.0,>=3.2.0 in c:\\users\\venka\\anaconda3\\lib\\site-packages (from spacy<3.3.0,>=3.2.0->en-core-web-sm==3.2.0) (3.3.0)\n",
      "Requirement already satisfied: tqdm<5.0.0,>=4.38.0 in c:\\users\\venka\\anaconda3\\lib\\site-packages (from spacy<3.3.0,>=3.2.0->en-core-web-sm==3.2.0) (4.62.2)\n",
      "Requirement already satisfied: spacy-legacy<3.1.0,>=3.0.8 in c:\\users\\venka\\anaconda3\\lib\\site-packages (from spacy<3.3.0,>=3.2.0->en-core-web-sm==3.2.0) (3.0.8)\n",
      "Requirement already satisfied: wasabi<1.1.0,>=0.8.1 in c:\\users\\venka\\anaconda3\\lib\\site-packages (from spacy<3.3.0,>=3.2.0->en-core-web-sm==3.2.0) (0.8.2)\n",
      "Requirement already satisfied: numpy>=1.15.0 in c:\\users\\venka\\anaconda3\\lib\\site-packages (from spacy<3.3.0,>=3.2.0->en-core-web-sm==3.2.0) (1.21.4)\n",
      "Requirement already satisfied: pathy>=0.3.5 in c:\\users\\venka\\anaconda3\\lib\\site-packages (from spacy<3.3.0,>=3.2.0->en-core-web-sm==3.2.0) (0.6.1)\n",
      "Requirement already satisfied: thinc<8.1.0,>=8.0.12 in c:\\users\\venka\\anaconda3\\lib\\site-packages (from spacy<3.3.0,>=3.2.0->en-core-web-sm==3.2.0) (8.0.13)\n",
      "Requirement already satisfied: srsly<3.0.0,>=2.4.1 in c:\\users\\venka\\anaconda3\\lib\\site-packages (from spacy<3.3.0,>=3.2.0->en-core-web-sm==3.2.0) (2.4.2)\n",
      "Requirement already satisfied: pyparsing>=2.0.2 in c:\\users\\venka\\anaconda3\\lib\\site-packages (from packaging>=20.0->spacy<3.3.0,>=3.2.0->en-core-web-sm==3.2.0) (2.4.7)\n",
      "Requirement already satisfied: smart-open<6.0.0,>=5.0.0 in c:\\users\\venka\\anaconda3\\lib\\site-packages (from pathy>=0.3.5->spacy<3.3.0,>=3.2.0->en-core-web-sm==3.2.0) (5.2.1)\n",
      "Requirement already satisfied: typing-extensions>=3.7.4.3 in c:\\users\\venka\\anaconda3\\lib\\site-packages (from pydantic!=1.8,!=1.8.1,<1.9.0,>=1.7.4->spacy<3.3.0,>=3.2.0->en-core-web-sm==3.2.0) (3.7.4.3)\n",
      "Requirement already satisfied: certifi>=2017.4.17 in c:\\users\\venka\\anaconda3\\lib\\site-packages (from requests<3.0.0,>=2.13.0->spacy<3.3.0,>=3.2.0->en-core-web-sm==3.2.0) (2021.5.30)\n",
      "Requirement already satisfied: urllib3<1.27,>=1.21.1 in c:\\users\\venka\\anaconda3\\lib\\site-packages (from requests<3.0.0,>=2.13.0->spacy<3.3.0,>=3.2.0->en-core-web-sm==3.2.0) (1.26.6)\n",
      "Requirement already satisfied: charset-normalizer~=2.0.0 in c:\\users\\venka\\anaconda3\\lib\\site-packages (from requests<3.0.0,>=2.13.0->spacy<3.3.0,>=3.2.0->en-core-web-sm==3.2.0) (2.0.4)\n",
      "Requirement already satisfied: idna<4,>=2.5 in c:\\users\\venka\\anaconda3\\lib\\site-packages (from requests<3.0.0,>=2.13.0->spacy<3.3.0,>=3.2.0->en-core-web-sm==3.2.0) (3.2)\n",
      "Requirement already satisfied: colorama in c:\\users\\venka\\anaconda3\\lib\\site-packages (from tqdm<5.0.0,>=4.38.0->spacy<3.3.0,>=3.2.0->en-core-web-sm==3.2.0) (0.4.4)\n",
      "Requirement already satisfied: click<9.0.0,>=7.1.1 in c:\\users\\venka\\anaconda3\\lib\\site-packages (from typer<0.5.0,>=0.3.0->spacy<3.3.0,>=3.2.0->en-core-web-sm==3.2.0) (8.0.1)\n",
      "Requirement already satisfied: MarkupSafe>=0.23 in c:\\users\\venka\\anaconda3\\lib\\site-packages (from jinja2->spacy<3.3.0,>=3.2.0->en-core-web-sm==3.2.0) (1.1.1)\n",
      "Installing collected packages: en-core-web-sm\n",
      "Successfully installed en-core-web-sm-3.2.0\n",
      "[+] Download and installation successful\n",
      "You can now load the package via spacy.load('en_core_web_sm')\n"
     ]
    }
   ],
   "source": [
    " #inputs- document term matrix - bow - term and its count\n",
    " #input2- number of topics \n",
    " #number of iteration\n",
    "!python -m spacy download en_core_web_sm"
   ]
  },
  {
   "cell_type": "code",
   "execution_count": 8,
   "metadata": {
    "id": "1SDUmhO91vPt"
   },
   "outputs": [],
   "source": [
    "import numpy as np\n",
    "import json\n",
    "import glob\n",
    "\n",
    "#Gensim\n",
    "import gensim\n",
    "import gensim.corpora as corpora\n",
    "from gensim.utils import simple_preprocess\n",
    "from gensim.models import CoherenceModel\n",
    "\n",
    "#spacy\n",
    "import spacy\n",
    "import nltk\n",
    "\n",
    "\n",
    "#vis\n",
    "import pyLDAvis\n",
    "import pyLDAvis.gensim_models as gensimvis\n",
    "\n",
    "import warnings\n",
    "warnings.filterwarnings(\"ignore\", category=DeprecationWarning)\n",
    "\n",
    "\n"
   ]
  },
  {
   "cell_type": "code",
   "execution_count": 9,
   "metadata": {
    "id": "4EZltL27D1oa"
   },
   "outputs": [],
   "source": [
    "def load_data(file):\n",
    "    with open (file, \"r\", encoding=\"utf-8\") as f:\n",
    "        data = json.load(f) \n",
    "    return (data)\n",
    "\n",
    "def write_data(file, data):\n",
    "    with open (file, \"w\", encoding=\"utf-8\") as f:\n",
    "        json.dump(data, f, indent=4)"
   ]
  },
  {
   "cell_type": "code",
   "execution_count": 10,
   "metadata": {
    "id": "EJGbwsBLEQBR"
   },
   "outputs": [
    {
     "name": "stderr",
     "output_type": "stream",
     "text": [
      "[nltk_data] Downloading package stopwords to\n",
      "[nltk_data]     C:\\Users\\venka\\AppData\\Roaming\\nltk_data...\n",
      "[nltk_data]   Package stopwords is already up-to-date!\n"
     ]
    },
    {
     "data": {
      "text/plain": [
       "True"
      ]
     },
     "execution_count": 10,
     "metadata": {},
     "output_type": "execute_result"
    }
   ],
   "source": [
    "nltk.download('stopwords')\n",
    "#stopwords = stopwords.words(\"english\")"
   ]
  },
  {
   "cell_type": "code",
   "execution_count": 11,
   "metadata": {
    "id": "yuBxSltdESjo"
   },
   "outputs": [
    {
     "name": "stdout",
     "output_type": "stream",
     "text": [
      "<p>Im wondering is there a built in function in javascript that has the timezone informati\n"
     ]
    }
   ],
   "source": [
    "data = load_data(\"Waj_finals.json\")[\"DBody\"]\n",
    "print (data[0][0:90])"
   ]
  },
  {
   "cell_type": "code",
   "execution_count": 12,
   "metadata": {
    "id": "hCk7RJZpEWIw"
   },
   "outputs": [
    {
     "name": "stdout",
     "output_type": "stream",
     "text": [
      "wonder build function javascript timezone information such los_angele equivalent determine\n"
     ]
    }
   ],
   "source": [
    "def lemmatization(texts, allowed_postags=[\"NOUN\", \"ADJ\", \"VERB\", \"ADV\"]):\n",
    "    nlp = spacy.load(\"en_core_web_sm\", disable=[\"parser\", \"ner\"])\n",
    "    texts_out = []\n",
    "    for text in texts:\n",
    "        doc = nlp(text)\n",
    "        new_text = []\n",
    "        for token in doc:\n",
    "            if token.pos_ in allowed_postags:\n",
    "                new_text.append(token.lemma_)\n",
    "        final = \" \".join(new_text)\n",
    "        texts_out.append(final)\n",
    "    return (texts_out)\n",
    "\n",
    "\n",
    "lemmatized_texts = lemmatization(data)\n",
    "print (lemmatized_texts[0][0:90])"
   ]
  },
  {
   "cell_type": "code",
   "execution_count": 13,
   "metadata": {
    "id": "MMP6d8W2EbC3"
   },
   "outputs": [
    {
     "name": "stdout",
     "output_type": "stream",
     "text": [
      "['wonder', 'build', 'function', 'javascript', 'timezone', 'information', 'such', 'los_angele', 'equivalent', 'determine', 'factor', 'need', 'factor', 'however', 'home', 'page', 'list', 'zone', 'attempt', 'build']\n"
     ]
    }
   ],
   "source": [
    "def gen_words(texts):\n",
    "    final = []\n",
    "    for text in texts:\n",
    "        new = gensim.utils.simple_preprocess(text, deacc=True)\n",
    "        final.append(new)\n",
    "    return (final)\n",
    "\n",
    "data_words = gen_words(lemmatized_texts)\n",
    "\n",
    "print (data_words[0][0:20])"
   ]
  },
  {
   "cell_type": "code",
   "execution_count": 14,
   "metadata": {
    "id": "WzXC30_KEgo5"
   },
   "outputs": [
    {
     "name": "stdout",
     "output_type": "stream",
     "text": [
      "[(0, 1), (1, 2), (2, 2), (3, 1), (4, 1), (5, 2), (6, 1), (7, 1), (8, 1), (9, 1), (10, 1), (11, 1), (12, 1), (13, 1), (14, 1), (15, 2), (16, 1), (17, 1), (18, 1), (19, 1)]\n",
      "attempt\n"
     ]
    }
   ],
   "source": [
    "id2word = corpora.Dictionary(data_words)\n",
    "\n",
    "corpus = []\n",
    "for text in data_words:\n",
    "    new = id2word.doc2bow(text)\n",
    "    corpus.append(new)\n",
    "\n",
    "print (corpus[0][0:20])\n",
    "\n",
    "word = id2word[[0][:1][0]]\n",
    "print (word)"
   ]
  },
  {
   "cell_type": "code",
   "execution_count": 15,
   "metadata": {
    "id": "n-jlOA8nEin_"
   },
   "outputs": [],
   "source": [
    "lda_model = gensim.models.ldamodel.LdaModel(corpus=corpus,\n",
    "                                           id2word=id2word,\n",
    "                                           num_topics=10,\n",
    "                                           random_state=100,\n",
    "                                           update_every=1,\n",
    "                                           chunksize=100,\n",
    "                                           passes=10,\n",
    "                                           alpha=\"auto\")"
   ]
  },
  {
   "cell_type": "code",
   "execution_count": 16,
   "metadata": {
    "id": "RBRo3Rb-ElWP"
   },
   "outputs": [
    {
     "name": "stderr",
     "output_type": "stream",
     "text": [
      "C:\\Users\\venka\\anaconda3\\lib\\site-packages\\pyLDAvis\\_prepare.py:246: FutureWarning: In a future version of pandas all arguments of DataFrame.drop except for the argument 'labels' will be keyword-only\n",
      "  default_term_info = default_term_info.sort_values(\n"
     ]
    },
    {
     "data": {
      "text/html": [
       "\n",
       "<link rel=\"stylesheet\" type=\"text/css\" href=\"https://cdn.jsdelivr.net/gh/bmabey/pyLDAvis@3.3.1/pyLDAvis/js/ldavis.v1.0.0.css\">\n",
       "\n",
       "\n",
       "<div id=\"ldavis_el1162816435003700646780910753\"></div>\n",
       "<script type=\"text/javascript\">\n",
       "\n",
       "var ldavis_el1162816435003700646780910753_data = {\"mdsDat\": {\"x\": [-0.4555739629581235, -0.018955277218185837, -0.2831635617346169, 0.2995651043365743, 0.4341550790093789, 0.3468369123117505, 0.08231241850268045, 0.08113429193540517, -0.2336773453741009, -0.2526336588107618], \"y\": [0.044090261953418086, 0.14633486535321596, 0.3603053993751719, -0.2696257590939364, -0.031906440945823115, 0.25704779692656804, 0.46106902892925694, -0.44969325232043433, -0.1187385192452368, -0.3988833809322001], \"topics\": [1, 2, 3, 4, 5, 6, 7, 8, 9, 10], \"cluster\": [1, 1, 1, 1, 1, 1, 1, 1, 1, 1], \"Freq\": [28.88449878456149, 14.950238899086521, 12.222974166861876, 11.488985922983918, 8.933456216018579, 6.2725504430447385, 6.209669031488916, 4.669325532089624, 3.602906574460422, 2.7653944294039223]}, \"tinfo\": {\"Term\": [\"gt\", \"lt\", \"return\", \"function\", \"code\", \"use\", \"value\", \"string\", \"file\", \"class\", \"error\", \"new\", \"int\", \"name\", \"result\", \"public\", \"var\", \"question\", \"data\", \"array\", \"get\", \"way\", \"pre\", \"object\", \"number\", \"make\", \"table\", \"run\", \"list\", \"want\", \"way\", \"know\", \"need\", \"user\", \"just\", \"datum\", \"page\", \"more\", \"test\", \"seem\", \"however\", \"good\", \"as\", \"response\", \"think\", \"different\", \"say\", \"simple\", \"always\", \"very\", \"database\", \"able\", \"password\", \"take\", \"come\", \"base\", \"sure\", \"thing\", \"request\", \"many\", \"only\", \"time\", \"use\", \"work\", \"set\", \"so\", \"look\", \"give\", \"example\", \"see\", \"url\", \"get\", \"other\", \"code\", \"find\", \"then\", \"try\", \"want\", \"variable\", \"follow\", \"same\", \"do\", \"error\", \"new\", \"int\", \"public\", \"void\", \"static\", \"import\", \"null\", \"main\", \"print\", \"quot\", \"private\", \"message\", \"property\", \"load\", \"header\", \"language\", \"exception\", \"final\", \"parse\", \"statement\", \"std\", \"thread\", \"foo\", \"local\", \"bar\", \"package\", \"throw\", \"boolean\", \"path\", \"object\", \"class\", \"expect\", \"cause\", \"method\", \"parameter\", \"call\", \"string\", \"type\", \"try\", \"get\", \"line\", \"return\", \"file\", \"image\", \"item\", \"column\", \"tag\", \"instead\", \"loop\", \"order\", \"index\", \"update\", \"view\", \"post\", \"put\", \"box\", \"multiple\", \"insert\", \"tell\", \"copy\", \"directory\", \"next\", \"group\", \"word\", \"similar\", \"comment\", \"alt\", \"stop\", \"bind\", \"collection\", \"place\", \"bad\", \"like\", \"create\", \"change\", \"make\", \"list\", \"remove\", \"text\", \"show\", \"add\", \"select\", \"line\", \"contain\", \"link\", \"want\", \"event\", \"here\", \"application\", \"date\", \"script\", \"system\", \"output\", \"org\", \"app\", \"compile\", \"format\", \"project\", \"com\", \"command\", \"source\", \"bit\", \"character\", \"issue\", \"title\", \"library\", \"build\", \"process\", \"web\", \"currently\", \"net\", \"device\", \"compare\", \"background\", \"year\", \"day\", \"leave\", \"nofollow\", \"number\", \"run\", \"java\", \"first\", \"strong\", \"program\", \"possible\", \"start\", \"version\", \"http\", \"gt\", \"lt\", \"android\", \"input\", \"element\", \"id\", \"double\", \"override\", \"style\", \"cout\", \"map\", \"template\", \"attribute\", \"replace\", \"assign\", \"endl\", \"space\", \"border\", \"xml\", \"body\", \"action\", \"behavior\", \"rail\", \"val\", \"node\", \"layout\", \"quote\", \"target\", \"wrap_content\", \"pattern\", \"name\", \"top\", \"pre\", \"include\", \"amp\", \"prettyprint\", \"code\", \"type\", \"true\", \"form\", \"false\", \"text\", \"html\", \"question\", \"array\", \"mean\", \"rel\", \"php\", \"questions\", \"answer\", \"syntax\", \"key\", \"noreferrer\", \"difference\", \"li\", \"eclipse\", \"manual\", \"sort\", \"explain\", \"email\", \"specific\", \"ask\", \"duplicate\", \"again\", \"short\", \"relate\", \"how\", \"real\", \"python\", \"general\", \"term\", \"wiki\", \"detail\", \"understand\", \"particular\", \"reference\", \"argument\", \"br\", \"type\", \"use\", \"variable\", \"list\", \"function\", \"value\", \"result\", \"table\", \"row\", \"operator\", \"query\", \"count\", \"generate\", \"self\", \"def\", \"compiler\", \"const\", \"sum\", \"asynchronous\", \"exit\", \"sign\", \"global\", \"comma\", \"scope\", \"os\", \"person\", \"shell\", \"flag\", \"argv\", \"obj\", \"counter\", \"gcc\", \"firstname\", \"describe\", \"return\", \"echo\", \"undefined\", \"false\", \"true\", \"none\", \"pass\", \"for\", \"well\", \"else\", \"prettyprint\", \"try\", \"make\", \"select\", \"end\", \"size\", \"enter\", \"button\", \"click\", \"out\", \"option\", \"search\", \"field\", \"expression\", \"match\", \"let\", \"byte\", \"delete\", \"child\", \"integer\", \"save\", \"google\", \"cell\", \"alert\", \"nsstre\", \"submit\", \"re\", \"push\", \"fill\", \"regular\", \"initialize\", \"continue\", \"init\", \"turn\", \"length\", \"string\", \"convert\", \"form\", \"else\", \"var\", \"data\", \"px\", \"snippet\", \"color\", \"console\", \"js\", \"record\", \"div\", \"hide\", \"css\", \"lang\", \"install\", \"alloc\", \"center\", \"interface\", \"plugin\", \"callback\", \"bottom\", \"website\", \"red\", \"align\", \"register\", \"solid\", \"present\", \"wait\", \"middle\", \"login\", \"internet\", \"radius\", \"position\", \"block\", \"log\", \"class\", \"pre\", \"code\", \"event\", \"display\", \"content\", \"window\", \"widget\", \"width\", \"char\", \"swt\", \"constructor\", \"activity\", \"screen\", \"str\", \"module\", \"random\", \"frame\", \"status\", \"step\", \"tab\", \"little\", \"super\", \"param\", \"mail\", \"label\", \"pygame\", \"press\", \"info\", \"merge\", \"textview\", \"letter\", \"scroll\", \"portable\", \"height\"], \"Freq\": [24927.0, 24470.0, 20648.0, 17572.0, 38761.0, 43123.0, 15328.0, 13962.0, 15876.0, 17029.0, 16576.0, 16458.0, 16324.0, 11438.0, 9426.0, 12663.0, 7083.0, 8132.0, 6552.0, 6729.0, 23094.0, 14420.0, 8237.0, 9772.0, 7938.0, 9450.0, 5901.0, 9056.0, 9109.0, 16426.0, 14419.283272878587, 9852.60581405008, 9710.706382091419, 8477.47785577874, 8272.55139165698, 7814.382850642964, 6574.76552504391, 5611.909202793727, 5489.334616007165, 5257.711052317659, 4548.57342156785, 4117.809584185968, 4084.493332210166, 4063.6626012301767, 3873.7803594917295, 3735.822702152533, 3719.138963697374, 3619.130392318485, 3318.444481044407, 3187.919848054228, 3140.582281548984, 2956.1477002378924, 2934.2482453135335, 2902.3752001884795, 2642.26118697218, 2596.433483366014, 2579.010642284249, 2528.141259719324, 2463.1232957069005, 2160.5414255210944, 7719.680991579684, 6500.72035945018, 41150.29692894886, 13968.832197775442, 7769.576623137838, 11039.297919106675, 6658.832960434493, 4948.9799628187175, 6336.309955025902, 6534.99270414787, 3809.596789210806, 19734.17885131872, 6408.089133143659, 28767.43451991773, 8837.690322634804, 7067.389038783028, 13074.827914527745, 12110.761920221445, 6734.104342783685, 6535.63794742241, 5883.05646238718, 5503.427518178014, 16576.00545836989, 16457.49174366035, 16323.491593987706, 12662.626159794492, 6511.347003324094, 4959.774522196302, 4841.991324559243, 4800.639381366512, 4784.254127155978, 4731.666119974173, 4480.8319837568515, 4038.766065705398, 3894.5083760393304, 3018.330876193205, 2989.01863164097, 2897.37859141844, 2573.0364218013474, 2556.7369654706063, 2532.283416974851, 2512.933771911799, 2243.7955390744355, 2136.104708161257, 2063.805585002491, 2045.4257359357991, 1977.4123897859097, 1973.797845326051, 1916.441715665284, 1873.3300102010114, 1793.162348665258, 1711.6849931986073, 9604.052619714292, 13397.162722968635, 2974.101986820067, 2514.475004842676, 6259.489221001598, 2953.1086783439277, 4377.8923133617545, 4034.540067257683, 2983.893813945822, 3274.103742573685, 3215.1097132729456, 2777.370248000635, 2907.6591865043238, 15875.624388229207, 5761.855600058807, 4034.8962112051504, 3384.7665559127645, 3384.179265035012, 3176.484559699085, 3007.48938809905, 2927.9606170270154, 2861.4949615265255, 2622.196144109352, 2613.84643501382, 2561.101736265227, 2487.336278653321, 2387.21031980954, 2196.9427509577195, 2145.240015552301, 1933.9336463475715, 1719.031096641977, 1610.62894104087, 1448.0375557816303, 1398.943431278655, 1387.5110509458411, 1379.123643215332, 1359.6502786798535, 1295.055687216073, 1280.1224500736935, 1269.6738694758035, 1203.1882875539682, 1188.4645471116764, 1182.0711278954996, 6429.955117540989, 8052.151076896735, 5507.323033523292, 8444.609485015786, 8071.689740853513, 2292.0718903732486, 5778.11286711678, 4256.3554959991625, 5701.441921851985, 3682.057991343328, 6265.181923782441, 2837.086441758579, 2584.4003005090576, 4314.686324623492, 2225.802133136658, 2364.5957165145824, 5185.163877677961, 4923.313094008939, 4380.624022839003, 4112.395727985303, 4011.275842345834, 3833.706310189431, 3415.491718937355, 2911.758441073962, 2900.275023109568, 2866.7911278187244, 2860.682921388601, 2816.8135818413098, 2712.8978876315364, 2669.7023161825755, 2397.3235895946873, 2366.816220538388, 2331.931889902669, 2326.757391404453, 2080.806851469885, 2072.3777898265253, 1958.5147777983998, 1697.620101939836, 1688.4619685431937, 1660.6646051325802, 1655.9035552401572, 1638.8171303664008, 1434.2105651402492, 1428.1219744229807, 1422.6479250065177, 1420.0113200928063, 7933.071130295544, 8288.916360271138, 3302.251853813094, 4847.656681609272, 5030.810743939058, 4106.815753719422, 3622.628331462869, 3941.572482415256, 2709.079784039011, 2034.4669445267282, 24927.039118059452, 24469.672595798114, 6102.2766171875965, 5236.170609003413, 4691.055784888909, 3407.36697181299, 2952.481199887765, 2550.900759917037, 2147.447112354153, 2113.1739867664764, 1983.3958109720272, 1948.0016735704278, 1597.8617222531386, 1345.2086661156209, 1330.6716265914806, 1297.384109705371, 1270.6962153020881, 1255.5898135627654, 1165.586498829696, 1165.5556001543473, 1149.0796195503672, 1139.4264403963816, 1123.1379183164117, 1090.064724089249, 991.7702320031514, 981.2736370962575, 934.9130284349305, 909.1907668380052, 902.2220331092141, 879.8254136526799, 11426.323058882557, 2046.9604871765212, 6265.666450749041, 3187.5384444484757, 1965.849496317833, 1687.9810546239025, 4334.1178297846445, 2311.052646222491, 1801.6098507808751, 1546.2346607065117, 1522.400170408594, 1508.8641889236949, 1282.2296870948057, 8131.600230633928, 6728.285057952026, 4963.475738481089, 4478.757864875223, 3777.6405868050715, 3643.8221195477836, 3635.847943313832, 3580.716324498547, 3388.1067899279406, 3296.8339370602566, 3170.1707542689514, 2354.789746384178, 1994.3901729488516, 1785.8293839989128, 1728.335747466806, 1665.625579675702, 1495.0497058392896, 1467.2496707234618, 1346.5927536585755, 1343.9529815621352, 1149.8584283643816, 1035.2394907722435, 947.0775560494114, 925.0184690436507, 834.4200342106562, 806.5780595653687, 792.5175386681879, 743.7110503708485, 730.1939469352837, 698.9378734939589, 1979.0953032974726, 1195.004500859878, 2275.015786646426, 1193.7452094860173, 1003.0682097407639, 1605.8569827696385, 1915.8439981180181, 1318.8421892232966, 1036.6210769848913, 17571.464037594025, 15327.568212991591, 9425.588418824549, 5900.992091226828, 4671.629158561121, 3950.293832412163, 3517.215642136452, 2131.1957727020385, 2127.598591426014, 2044.9210152821352, 1949.2173884091524, 1239.8390134771425, 1084.8236198429356, 981.4780176726994, 811.3781976459659, 767.0065322631511, 763.6863045331738, 697.0870137652904, 692.2523993942942, 690.8247445627068, 597.332368427342, 580.1756810738259, 513.9450688965067, 474.90546038002736, 470.24099220458373, 455.7814042025589, 454.8248234810301, 452.75550374070735, 452.6677459240666, 448.50266965765996, 17740.42745203567, 1528.4957449581964, 2302.4239270571484, 2749.8344804409226, 3114.0927583452863, 1171.657277590019, 1624.7131962416277, 798.0491327876972, 1808.5154109498765, 1578.8452019446788, 1026.528352624267, 1404.1428503777072, 1004.9894516786029, 868.8181168544294, 4215.394232939165, 3562.4494394192534, 3465.1984291997596, 3307.836228539881, 2978.9339143650054, 2596.572388394789, 2590.264807493592, 2503.5358272689064, 2438.9692739009533, 2095.171654437987, 1853.4225427983179, 1794.5665319488592, 1760.5843086886052, 1759.7377156683363, 1587.0125776583816, 1488.8243488474336, 1474.6916973445525, 1093.0449921395666, 1082.4744090578124, 1060.2649721147786, 1046.7615562747146, 1030.7107492373311, 889.5763892221124, 812.1412104792324, 805.2751662114449, 804.6644465563614, 786.8659341223351, 744.8186522268264, 704.3316525830115, 687.7397666529652, 2717.801011429176, 9926.699199485582, 2187.085528294949, 2432.8756557557904, 819.8015914787961, 7082.608451559454, 6551.9118526535, 2851.77620947176, 2267.7086183928027, 2226.9516095514964, 2185.4823059303094, 1608.4343187897402, 1526.4696202780478, 1516.9054714261958, 1498.3758061305443, 1485.721342484857, 982.5334187563514, 965.7008310948241, 964.863761700059, 943.9286926486365, 928.6068144305538, 891.3727835037796, 812.3027449349748, 794.0054842655202, 785.9189462474393, 645.6749381183854, 638.3130374072938, 634.6168275608374, 568.8704874757593, 557.249105255026, 523.7874427262233, 518.6105661791555, 508.89973571896616, 494.87215601081516, 485.6585984273757, 1465.9886975052434, 1704.5564911935903, 1417.4316877703684, 3403.782915632271, 1970.6513746335913, 3959.897024318888, 721.8144003872827, 3339.7136901200297, 3131.8960465751397, 2358.2016296257043, 2345.8645779050635, 1834.0227799845343, 1635.4368460420822, 1239.1846643499186, 1214.0379240854209, 1179.9222939214185, 1112.0744798637575, 1017.594452009696, 975.3989131944984, 965.0040710541823, 897.8251861430697, 882.5538627089178, 832.7087109221304, 749.2529765692356, 743.8387322902828, 711.1650769869046, 604.5186413593323, 600.7590524192005, 596.23817580919, 572.0030799662721, 571.9768223649824, 561.411275355028, 536.7882249761157, 533.538313744547, 524.3819043629774, 519.9068414795793, 494.50727280358996, 1239.4037416915387], \"Total\": [24927.0, 24470.0, 20648.0, 17572.0, 38761.0, 43123.0, 15328.0, 13962.0, 15876.0, 17029.0, 16576.0, 16458.0, 16324.0, 11438.0, 9426.0, 12663.0, 7083.0, 8132.0, 6552.0, 6729.0, 23094.0, 14420.0, 8237.0, 9772.0, 7938.0, 9450.0, 5901.0, 9056.0, 9109.0, 16426.0, 14420.172134273049, 9853.494667582208, 9711.595241358567, 8478.366747123866, 8273.440263485492, 7815.271716762416, 6575.654462762365, 5612.798117721047, 5490.2235294979655, 5258.599896031021, 4549.462292035476, 4118.698408399242, 4085.3823033567046, 4064.551442145221, 3874.6692005180885, 3736.711679063759, 3720.02783939866, 3620.019271509543, 3319.333374467439, 3188.8087576746134, 3141.4711043531206, 2957.0365545986156, 2935.1371022285084, 2903.2640652356677, 2643.150120283048, 2597.322377162503, 2579.899509363464, 2529.0301192032366, 2464.0121503974756, 2161.430287684072, 7730.289857427279, 6523.371798958018, 43123.973915382136, 14346.757106539539, 7959.348479488764, 11452.263934604665, 6823.87113134521, 5026.491140307559, 6500.788360065459, 6875.344002925812, 3860.8695233033154, 23094.85572182465, 6808.178093627138, 38761.29786565786, 10226.488975786979, 7887.369551096425, 17753.768140341483, 16426.233040890787, 8053.745570217479, 7876.0871720285595, 6829.589457507429, 6869.589007237827, 16576.90197442864, 16458.388377948195, 16324.388120343703, 12663.522641236887, 6512.243492973152, 4960.6710220609975, 4842.887832385722, 4801.535909033138, 4785.150667868656, 4732.562696134657, 4481.728573712512, 4039.6625436114373, 3895.404924098623, 3019.227466137777, 2989.915363315271, 2898.275186278392, 2573.9331211211556, 2557.63349509518, 2533.1799715851607, 2513.830297045427, 2244.6921786341736, 2137.001226370857, 2064.7020819077784, 2046.322276630564, 1978.3092276211275, 1974.6944493463304, 1917.338294279355, 1874.2264871944487, 1794.058798249688, 1712.5816190732332, 9772.615754460438, 17029.037787935238, 3237.511423880518, 2704.5043281061326, 8721.39660023596, 3331.335814207091, 8093.868167793771, 13962.033694686628, 8732.384677461781, 17753.768140341483, 23094.85572182465, 9043.344671553123, 20648.885062300822, 15876.513982421433, 5762.745202896452, 4035.7858352515314, 3385.6561515846292, 3385.0689856146637, 3177.374210561251, 3008.3789804942307, 2928.850257698334, 2862.384765926766, 2623.0857653641615, 2614.736063762788, 2561.991359694956, 2488.2259241549086, 2388.100068171585, 2197.8323382266162, 2146.1295966666685, 1934.8232836172674, 1719.9207699935964, 1611.5184580951397, 1448.9271898013305, 1399.8330676067994, 1388.4006504441145, 1380.0132665227638, 1360.5400980037116, 1295.9452754089182, 1281.0121822716599, 1270.5635004089702, 1204.0780580583116, 1189.3541406465401, 1182.9607204191343, 6591.448816913114, 8663.853704634157, 5970.717344700527, 9450.390499972682, 9109.110586458897, 2403.64025949782, 7287.763892437199, 5174.815042229245, 7565.785747970302, 4551.667604600269, 9043.344671553123, 3610.5148331764103, 3590.5611495081744, 16426.233040890787, 2948.409047238768, 8491.34572672542, 5186.055620425162, 4924.204819720519, 4381.515826605146, 4113.287528134846, 4012.167666516465, 3834.598035554159, 3416.383473544935, 2912.65018776244, 2901.166783076117, 2867.68285431008, 2861.574681433586, 2817.705311338581, 2713.789675026782, 2670.594114576377, 2398.215412118374, 2367.708051101957, 2332.8238130818736, 2327.64917016933, 2081.698613379027, 2073.2695493631854, 1959.4065257304849, 1698.5119560458857, 1689.353759383392, 1661.5563928534086, 1656.7953253434714, 1639.7091381827345, 1435.102321578793, 1429.013658916543, 1423.539894418342, 1420.9031364094558, 7938.221687558859, 9056.412081610935, 3492.4124448763564, 5322.109710806156, 5607.943152095141, 4678.107305037541, 4237.832562411515, 4889.25116075239, 3112.3634343009207, 2307.5577969459796, 24927.92995716435, 24470.563443304498, 6103.167461972558, 5237.061561754415, 4691.946691033665, 3408.2578549658137, 2953.3722893260456, 2551.7917199170342, 2148.3380267369635, 2114.0647727896376, 1984.2867610586084, 1948.8925367662646, 1598.7526217710192, 1346.0996392264092, 1331.5630909790887, 1298.274884187269, 1271.5872158935301, 1256.4807677164697, 1166.4773622204327, 1166.4465747670565, 1149.9705403793625, 1140.317524353658, 1124.0289656803425, 1090.9556236559204, 992.6612462034767, 982.1647036853791, 935.8040393401028, 910.0817388986636, 903.112770390652, 880.7163690801069, 11438.14132645481, 2223.118285929458, 8237.11167714362, 4591.523787954618, 2693.195950543984, 2715.3022826095576, 38761.29786565786, 8732.384677461781, 5368.081422501419, 3979.899118195175, 4273.02750138838, 7287.763892437199, 2456.471485061187, 8132.504102942153, 6729.188911774879, 4964.379538333293, 4479.661699512546, 3778.5444033224594, 3644.7258632467497, 3636.751759909521, 3581.6200800168963, 3389.010707183787, 3297.737720539074, 3171.0745529054434, 2355.6936189278667, 1995.294652262626, 1786.7331154933358, 1729.239588311692, 1666.5294918641357, 1495.9535910783638, 1468.1535625210013, 1347.4966872066254, 1344.8568334501254, 1150.7624055238512, 1036.1433017037778, 947.9814411905262, 925.9223003935728, 835.3238966623428, 807.4820000708999, 793.4213414942632, 744.6148866750623, 731.0977540151612, 699.841923584947, 2668.448058642946, 1451.2149284664263, 3932.0441970583647, 1728.5395106064327, 1518.7184786400107, 8732.384677461781, 43123.973915382136, 8053.745570217479, 9109.110586458897, 17572.359639574323, 15328.463816824104, 9426.483960882126, 5901.887633931601, 4672.524705026267, 3951.189471739236, 3518.111202586932, 2132.091323140062, 2128.4943194336697, 2045.8166000265314, 1950.1129379188706, 1240.7346918379378, 1085.7191622864475, 982.3735994989382, 812.2736360087613, 767.9022003429666, 764.582004229789, 697.9827804295808, 693.1480355300992, 691.7203230360528, 598.228371929088, 581.0715188404822, 514.8407664509258, 475.8012284792135, 471.13656263270104, 456.6770275553384, 455.7204149291172, 453.6510743280032, 453.5632620809658, 449.3984815173606, 20648.885062300822, 1719.8238127819805, 3324.9185590446928, 4273.02750138838, 5368.081422501419, 1737.4920833629278, 2979.176328552426, 1103.4786145923672, 4879.395924710456, 4327.40156284168, 2715.3022826095576, 17753.768140341483, 9450.390499972682, 4551.667604600269, 4216.285832086822, 3563.3410878803143, 3466.0900689770974, 3308.72783162445, 2979.8255310780955, 2597.463967158219, 2591.156419869723, 2504.4276274241824, 2439.8608382790862, 2096.0633981051496, 1854.314191904636, 1795.4582992814007, 1761.4759421382905, 1760.6292930462744, 1587.9042162652815, 1489.715906859899, 1475.583267217003, 1093.9365929416729, 1083.36594125609, 1061.1566596395094, 1047.6530328603071, 1031.6023258122648, 890.4681140449667, 813.0328456573835, 806.1667880161023, 805.5560344789682, 787.7578791051884, 745.7106480457518, 705.223266772976, 688.631376753745, 2856.364249408314, 13962.033694686628, 2859.331327800059, 3979.899118195175, 4327.40156284168, 7083.505121305971, 6552.808373530704, 2852.6726685113786, 2268.605069961313, 2227.8480950612166, 2186.378811976782, 1609.3307646121496, 1527.3662949664283, 1517.8019718386877, 1499.2723084727065, 1486.6178119070423, 983.4298443670488, 966.5975067507095, 965.7605975084518, 944.8251855950199, 929.5034771013418, 892.2693272363691, 813.1992725545681, 794.9020950274183, 786.8157193208411, 646.5714574451698, 639.2095127691819, 635.51356865299, 569.7669440483187, 558.1462172379958, 524.6841509560228, 519.5071755371001, 509.7963729921954, 495.76901025031253, 486.55534459286724, 1701.1577626225314, 2414.7525347085516, 2072.4902313701946, 17029.037787935238, 8237.11167714362, 38761.29786565786, 2948.409047238768, 3340.611610408941, 3132.7940160434605, 2359.0994863237684, 2346.7623818595675, 1834.9206403551502, 1636.3347638551109, 1240.0853999906728, 1214.935823814606, 1180.8200913627031, 1112.9723530658275, 1018.4922863764824, 976.2968322979839, 965.901939518792, 898.7230718307052, 883.4518157056882, 833.6068202306864, 750.1508281953768, 744.7367344076627, 712.0629581533459, 605.4165202783392, 601.6570064877097, 597.1360019532783, 572.9008670686873, 572.8746633611163, 562.3091934839259, 537.6861392322925, 534.4361067399999, 525.279813992478, 520.80477065695, 495.4050391962168, 1870.8384816011398], \"Category\": [\"Default\", \"Default\", \"Default\", \"Default\", \"Default\", \"Default\", \"Default\", \"Default\", \"Default\", \"Default\", \"Default\", \"Default\", \"Default\", \"Default\", \"Default\", \"Default\", \"Default\", \"Default\", \"Default\", \"Default\", \"Default\", \"Default\", \"Default\", \"Default\", \"Default\", \"Default\", \"Default\", \"Default\", \"Default\", \"Default\", \"Topic1\", \"Topic1\", \"Topic1\", \"Topic1\", \"Topic1\", \"Topic1\", \"Topic1\", \"Topic1\", \"Topic1\", \"Topic1\", \"Topic1\", \"Topic1\", \"Topic1\", \"Topic1\", \"Topic1\", \"Topic1\", \"Topic1\", \"Topic1\", \"Topic1\", \"Topic1\", \"Topic1\", \"Topic1\", \"Topic1\", \"Topic1\", \"Topic1\", \"Topic1\", \"Topic1\", \"Topic1\", \"Topic1\", \"Topic1\", \"Topic1\", \"Topic1\", \"Topic1\", \"Topic1\", \"Topic1\", \"Topic1\", \"Topic1\", \"Topic1\", \"Topic1\", \"Topic1\", \"Topic1\", \"Topic1\", \"Topic1\", \"Topic1\", \"Topic1\", \"Topic1\", \"Topic1\", \"Topic1\", \"Topic1\", \"Topic1\", \"Topic1\", \"Topic1\", \"Topic2\", \"Topic2\", \"Topic2\", \"Topic2\", \"Topic2\", \"Topic2\", \"Topic2\", \"Topic2\", \"Topic2\", \"Topic2\", \"Topic2\", \"Topic2\", \"Topic2\", \"Topic2\", \"Topic2\", \"Topic2\", \"Topic2\", \"Topic2\", \"Topic2\", \"Topic2\", \"Topic2\", \"Topic2\", \"Topic2\", \"Topic2\", \"Topic2\", \"Topic2\", \"Topic2\", \"Topic2\", \"Topic2\", \"Topic2\", \"Topic2\", \"Topic2\", \"Topic2\", \"Topic2\", \"Topic2\", \"Topic2\", \"Topic2\", \"Topic2\", \"Topic2\", \"Topic2\", \"Topic2\", \"Topic2\", \"Topic2\", \"Topic3\", \"Topic3\", \"Topic3\", \"Topic3\", \"Topic3\", \"Topic3\", \"Topic3\", \"Topic3\", \"Topic3\", \"Topic3\", \"Topic3\", \"Topic3\", \"Topic3\", \"Topic3\", \"Topic3\", \"Topic3\", \"Topic3\", \"Topic3\", \"Topic3\", \"Topic3\", \"Topic3\", \"Topic3\", \"Topic3\", \"Topic3\", \"Topic3\", \"Topic3\", \"Topic3\", \"Topic3\", \"Topic3\", \"Topic3\", \"Topic3\", \"Topic3\", \"Topic3\", \"Topic3\", \"Topic3\", \"Topic3\", \"Topic3\", \"Topic3\", \"Topic3\", \"Topic3\", \"Topic3\", \"Topic3\", \"Topic3\", \"Topic3\", \"Topic3\", \"Topic3\", \"Topic4\", \"Topic4\", \"Topic4\", \"Topic4\", \"Topic4\", \"Topic4\", \"Topic4\", \"Topic4\", \"Topic4\", \"Topic4\", \"Topic4\", \"Topic4\", \"Topic4\", \"Topic4\", \"Topic4\", \"Topic4\", \"Topic4\", \"Topic4\", \"Topic4\", \"Topic4\", \"Topic4\", \"Topic4\", \"Topic4\", \"Topic4\", \"Topic4\", \"Topic4\", \"Topic4\", \"Topic4\", \"Topic4\", \"Topic4\", \"Topic4\", \"Topic4\", \"Topic4\", \"Topic4\", \"Topic4\", \"Topic4\", \"Topic4\", \"Topic4\", \"Topic4\", \"Topic4\", \"Topic5\", \"Topic5\", \"Topic5\", \"Topic5\", \"Topic5\", \"Topic5\", \"Topic5\", \"Topic5\", \"Topic5\", \"Topic5\", \"Topic5\", \"Topic5\", \"Topic5\", \"Topic5\", \"Topic5\", \"Topic5\", \"Topic5\", \"Topic5\", \"Topic5\", \"Topic5\", \"Topic5\", \"Topic5\", \"Topic5\", \"Topic5\", \"Topic5\", \"Topic5\", \"Topic5\", \"Topic5\", \"Topic5\", \"Topic5\", \"Topic5\", \"Topic5\", \"Topic5\", \"Topic5\", \"Topic5\", \"Topic5\", \"Topic5\", \"Topic5\", \"Topic5\", \"Topic5\", \"Topic5\", \"Topic5\", \"Topic5\", \"Topic6\", \"Topic6\", \"Topic6\", \"Topic6\", \"Topic6\", \"Topic6\", \"Topic6\", \"Topic6\", \"Topic6\", \"Topic6\", \"Topic6\", \"Topic6\", \"Topic6\", \"Topic6\", \"Topic6\", \"Topic6\", \"Topic6\", \"Topic6\", \"Topic6\", \"Topic6\", \"Topic6\", \"Topic6\", \"Topic6\", \"Topic6\", \"Topic6\", \"Topic6\", \"Topic6\", \"Topic6\", \"Topic6\", \"Topic6\", \"Topic6\", \"Topic6\", \"Topic6\", \"Topic6\", \"Topic6\", \"Topic6\", \"Topic6\", \"Topic6\", \"Topic6\", \"Topic7\", \"Topic7\", \"Topic7\", \"Topic7\", \"Topic7\", \"Topic7\", \"Topic7\", \"Topic7\", \"Topic7\", \"Topic7\", \"Topic7\", \"Topic7\", \"Topic7\", \"Topic7\", \"Topic7\", \"Topic7\", \"Topic7\", \"Topic7\", \"Topic7\", \"Topic7\", \"Topic7\", \"Topic7\", \"Topic7\", \"Topic7\", \"Topic7\", \"Topic7\", \"Topic7\", \"Topic7\", \"Topic7\", \"Topic7\", \"Topic7\", \"Topic7\", \"Topic7\", \"Topic7\", \"Topic7\", \"Topic7\", \"Topic7\", \"Topic7\", \"Topic7\", \"Topic7\", \"Topic7\", \"Topic7\", \"Topic7\", \"Topic7\", \"Topic8\", \"Topic8\", \"Topic8\", \"Topic8\", \"Topic8\", \"Topic8\", \"Topic8\", \"Topic8\", \"Topic8\", \"Topic8\", \"Topic8\", \"Topic8\", \"Topic8\", \"Topic8\", \"Topic8\", \"Topic8\", \"Topic8\", \"Topic8\", \"Topic8\", \"Topic8\", \"Topic8\", \"Topic8\", \"Topic8\", \"Topic8\", \"Topic8\", \"Topic8\", \"Topic8\", \"Topic8\", \"Topic8\", \"Topic8\", \"Topic8\", \"Topic8\", \"Topic8\", \"Topic8\", \"Topic8\", \"Topic9\", \"Topic9\", \"Topic9\", \"Topic9\", \"Topic9\", \"Topic9\", \"Topic9\", \"Topic9\", \"Topic9\", \"Topic9\", \"Topic9\", \"Topic9\", \"Topic9\", \"Topic9\", \"Topic9\", \"Topic9\", \"Topic9\", \"Topic9\", \"Topic9\", \"Topic9\", \"Topic9\", \"Topic9\", \"Topic9\", \"Topic9\", \"Topic9\", \"Topic9\", \"Topic9\", \"Topic9\", \"Topic9\", \"Topic9\", \"Topic9\", \"Topic9\", \"Topic9\", \"Topic9\", \"Topic9\", \"Topic9\", \"Topic9\", \"Topic10\", \"Topic10\", \"Topic10\", \"Topic10\", \"Topic10\", \"Topic10\", \"Topic10\", \"Topic10\", \"Topic10\", \"Topic10\", \"Topic10\", \"Topic10\", \"Topic10\", \"Topic10\", \"Topic10\", \"Topic10\", \"Topic10\", \"Topic10\", \"Topic10\", \"Topic10\", \"Topic10\", \"Topic10\", \"Topic10\", \"Topic10\", \"Topic10\", \"Topic10\", \"Topic10\", \"Topic10\", \"Topic10\", \"Topic10\", \"Topic10\"], \"logprob\": [30.0, 29.0, 28.0, 27.0, 26.0, 25.0, 24.0, 23.0, 22.0, 21.0, 20.0, 19.0, 18.0, 17.0, 16.0, 15.0, 14.0, 13.0, 12.0, 11.0, 10.0, 9.0, 8.0, 7.0, 6.0, 5.0, 4.0, 3.0, 2.0, 1.0, -3.8583, -4.2391, -4.2536, -4.3895, -4.4139, -4.4709, -4.6436, -4.802, -4.8241, -4.8672, -5.0121, -5.1116, -5.1197, -5.1248, -5.1726, -5.2089, -5.2134, -5.2406, -5.3274, -5.3675, -5.3825, -5.443, -5.4504, -5.4613, -5.5552, -5.5727, -5.5795, -5.5994, -5.6254, -5.7565, -4.4831, -4.655, -2.8096, -3.89, -4.4767, -4.1254, -4.6309, -4.9277, -4.6806, -4.6497, -5.1894, -3.5445, -4.6693, -3.1676, -4.3478, -4.5714, -3.9562, -4.0328, -4.6197, -4.6496, -4.7548, -4.8215, -3.0603, -3.0675, -3.0757, -3.3296, -3.9947, -4.2669, -4.291, -4.2995, -4.303, -4.314, -4.3685, -4.4724, -4.5087, -4.7636, -4.7734, -4.8045, -4.9232, -4.9296, -4.9392, -4.9468, -5.0601, -5.1093, -5.1437, -5.1527, -5.1865, -5.1883, -5.2178, -5.2406, -5.2843, -5.3308, -3.6061, -3.2733, -4.7784, -4.9462, -4.0342, -4.7854, -4.3917, -4.4734, -4.7751, -4.6823, -4.7004, -4.8468, -4.8009, -2.9021, -3.9156, -4.2719, -4.4476, -4.4478, -4.5111, -4.5658, -4.5926, -4.6155, -4.7029, -4.7061, -4.7264, -4.7557, -4.7968, -4.8798, -4.9036, -5.0073, -5.1251, -5.1903, -5.2967, -5.3312, -5.3394, -5.3454, -5.3597, -5.4083, -5.4199, -5.4281, -5.4819, -5.4942, -5.4996, -3.8059, -3.5809, -3.9608, -3.5334, -3.5785, -4.8374, -3.9128, -4.2185, -3.9262, -4.3634, -3.8319, -4.6241, -4.7174, -4.2049, -4.8668, -4.8063, -3.9592, -4.011, -4.1278, -4.191, -4.2158, -4.2611, -4.3766, -4.5362, -4.5402, -4.5518, -4.5539, -4.5694, -4.6069, -4.623, -4.7306, -4.7434, -4.7583, -4.7605, -4.8722, -4.8763, -4.9328, -5.0757, -5.0811, -5.0977, -5.1006, -5.111, -5.2443, -5.2486, -5.2524, -5.2543, -3.5339, -3.49, -4.4104, -4.0265, -3.9894, -4.1923, -4.3178, -4.2334, -4.6083, -4.8947, -2.1374, -2.1559, -3.5447, -3.6978, -3.8077, -4.1274, -4.2707, -4.4169, -4.5891, -4.6052, -4.6686, -4.6866, -4.8847, -5.0568, -5.0677, -5.093, -5.1138, -5.1258, -5.2001, -5.2002, -5.2144, -5.2228, -5.2372, -5.2671, -5.3616, -5.3723, -5.4207, -5.4486, -5.4563, -5.4814, -2.9175, -4.637, -3.5183, -4.1941, -4.6774, -4.8298, -3.8869, -4.5157, -4.7647, -4.9175, -4.9331, -4.942, -5.1048, -2.904, -3.0934, -3.3976, -3.5004, -3.6707, -3.7067, -3.7089, -3.7242, -3.7795, -3.8068, -3.846, -4.1433, -4.3094, -4.4199, -4.4526, -4.4896, -4.5976, -4.6164, -4.7022, -4.7041, -4.8601, -4.9651, -5.0541, -5.0777, -5.1808, -5.2147, -5.2323, -5.2959, -5.3142, -5.3579, -4.3171, -4.8216, -4.1778, -4.8227, -4.9967, -4.5261, -4.3496, -4.723, -4.9638, -2.1234, -2.26, -2.7462, -3.2146, -3.4482, -3.6159, -3.732, -4.233, -4.2347, -4.2743, -4.3222, -4.7747, -4.9083, -5.0084, -5.1987, -5.2549, -5.2593, -5.3505, -5.3575, -5.3595, -5.505, -5.5341, -5.6553, -5.7343, -5.7442, -5.7754, -5.7775, -5.7821, -5.7823, -5.7915, -2.1138, -4.5654, -4.1557, -3.9781, -3.8537, -4.8313, -4.5043, -5.2153, -4.3972, -4.533, -4.9635, -4.6502, -4.9847, -5.1303, -3.2658, -3.4341, -3.4618, -3.5083, -3.613, -3.7504, -3.7528, -3.7869, -3.813, -3.9649, -4.0875, -4.1198, -4.1389, -4.1394, -4.2427, -4.3066, -4.3161, -4.6156, -4.6253, -4.6461, -4.6589, -4.6743, -4.8216, -4.9127, -4.9212, -4.9219, -4.9443, -4.9992, -5.0551, -5.0789, -3.7048, -2.4094, -3.922, -3.8155, -4.9033, -2.4877, -2.5656, -3.3974, -3.6265, -3.6447, -3.6635, -3.97, -4.0224, -4.0286, -4.0409, -4.0494, -4.4629, -4.4802, -4.4811, -4.503, -4.5194, -4.5603, -4.6532, -4.676, -4.6862, -4.8828, -4.8942, -4.9, -5.0094, -5.0301, -5.092, -5.1019, -5.1208, -5.1488, -5.1676, -4.0628, -3.912, -4.0965, -3.2204, -3.7669, -3.0691, -4.7713, -2.9749, -3.0391, -3.3229, -3.3281, -3.5742, -3.6888, -3.9663, -3.9868, -4.0153, -4.0745, -4.1633, -4.2057, -4.2164, -4.2885, -4.3057, -4.3638, -4.4694, -4.4767, -4.5216, -4.6841, -4.6903, -4.6979, -4.7394, -4.7394, -4.7581, -4.8029, -4.809, -4.8263, -4.8349, -4.8849, -3.9661], \"loglift\": [30.0, 29.0, 28.0, 27.0, 26.0, 25.0, 24.0, 23.0, 22.0, 21.0, 20.0, 19.0, 18.0, 17.0, 16.0, 15.0, 14.0, 13.0, 12.0, 11.0, 10.0, 9.0, 8.0, 7.0, 6.0, 5.0, 4.0, 3.0, 2.0, 1.0, 1.2418, 1.2418, 1.2418, 1.2418, 1.2418, 1.2418, 1.2417, 1.2417, 1.2417, 1.2417, 1.2417, 1.2416, 1.2416, 1.2416, 1.2416, 1.2416, 1.2416, 1.2416, 1.2416, 1.2416, 1.2416, 1.2416, 1.2416, 1.2416, 1.2415, 1.2415, 1.2415, 1.2415, 1.2415, 1.2415, 1.2405, 1.2384, 1.195, 1.2152, 1.2177, 1.2051, 1.2174, 1.2263, 1.2162, 1.1911, 1.2285, 1.0846, 1.1813, 0.9437, 1.0959, 1.1321, 0.936, 0.9371, 1.0629, 1.0553, 1.0927, 1.0201, 1.9004, 1.9004, 1.9004, 1.9004, 1.9003, 1.9003, 1.9003, 1.9003, 1.9003, 1.9003, 1.9002, 1.9002, 1.9002, 1.9001, 1.9001, 1.9001, 1.9001, 1.9001, 1.9001, 1.9001, 1.9, 1.9, 1.9, 1.9, 1.9, 1.9, 1.9, 1.9, 1.8999, 1.8999, 1.883, 1.6606, 1.8156, 1.8276, 1.5688, 1.7799, 1.2859, 0.659, 0.8266, 0.2099, -0.0713, 0.7199, -0.0599, 2.1018, 2.1017, 2.1016, 2.1016, 2.1016, 2.1016, 2.1016, 2.1015, 2.1015, 2.1015, 2.1015, 2.1015, 2.1015, 2.1015, 2.1014, 2.1014, 2.1014, 2.1013, 2.1013, 2.1012, 2.1012, 2.1012, 2.1012, 2.1012, 2.1012, 2.1012, 2.1012, 2.1011, 2.1011, 2.1011, 2.077, 2.0286, 2.0211, 1.9893, 1.9809, 2.0543, 1.8697, 1.9065, 1.8189, 1.8898, 1.7348, 1.8608, 1.773, 0.765, 1.8207, 0.8234, 2.1636, 2.1636, 2.1636, 2.1636, 2.1636, 2.1635, 2.1635, 2.1635, 2.1635, 2.1635, 2.1635, 2.1635, 2.1635, 2.1634, 2.1634, 2.1634, 2.1634, 2.1634, 2.1634, 2.1634, 2.1633, 2.1633, 2.1633, 2.1632, 2.1632, 2.1632, 2.1632, 2.1632, 2.1632, 2.1632, 2.1631, 2.0752, 2.1078, 2.0704, 2.0552, 2.0335, 2.0069, 1.9483, 2.025, 2.0378, 2.4153, 2.4153, 2.4152, 2.4152, 2.4152, 2.4151, 2.4151, 2.415, 2.415, 2.4149, 2.4149, 2.4149, 2.4148, 2.4147, 2.4147, 2.4147, 2.4147, 2.4147, 2.4146, 2.4146, 2.4146, 2.4146, 2.4146, 2.4145, 2.4145, 2.4145, 2.4144, 2.4144, 2.4144, 2.4144, 2.4143, 2.3328, 2.1418, 2.0504, 2.1006, 1.94, 0.2245, 1.086, 1.3236, 1.4699, 1.3833, 0.8405, 1.7652, 2.7689, 2.7689, 2.7688, 2.7688, 2.7687, 2.7687, 2.7687, 2.7687, 2.7687, 2.7687, 2.7687, 2.7686, 2.7685, 2.7685, 2.7685, 2.7684, 2.7684, 2.7684, 2.7683, 2.7683, 2.7682, 2.7681, 2.768, 2.768, 2.7679, 2.7679, 2.7678, 2.7678, 2.7678, 2.7677, 2.4701, 2.5747, 2.2218, 2.3988, 2.3542, 1.0756, -0.3449, 0.9596, 0.5957, 2.779, 2.779, 2.779, 2.7789, 2.7789, 2.7788, 2.7788, 2.7786, 2.7786, 2.7786, 2.7786, 2.7783, 2.7782, 2.7782, 2.778, 2.7779, 2.7779, 2.7778, 2.7778, 2.7778, 2.7776, 2.7775, 2.7773, 2.7772, 2.7772, 2.7771, 2.7771, 2.7771, 2.7771, 2.7771, 2.6272, 2.6611, 2.4116, 2.3383, 2.2345, 2.385, 2.1727, 2.455, 1.7865, 1.7708, 1.8063, 0.2419, 0.538, 1.1229, 3.0639, 3.0639, 3.0639, 3.0639, 3.0639, 3.0638, 3.0638, 3.0638, 3.0638, 3.0637, 3.0637, 3.0637, 3.0636, 3.0636, 3.0636, 3.0636, 3.0636, 3.0633, 3.0633, 3.0633, 3.0633, 3.0633, 3.0632, 3.0631, 3.063, 3.063, 3.063, 3.063, 3.0629, 3.0629, 3.0144, 2.723, 2.7961, 2.572, 1.4005, 3.3233, 3.3233, 3.3231, 3.323, 3.323, 3.323, 3.3229, 3.3228, 3.3228, 3.3228, 3.3228, 3.3225, 3.3225, 3.3225, 3.3225, 3.3225, 3.3224, 3.3223, 3.3223, 3.3223, 3.322, 3.322, 3.322, 3.3219, 3.3218, 3.3217, 3.3217, 3.3217, 3.3216, 3.3216, 3.1747, 2.9751, 2.9435, 1.7134, 1.8931, 1.0422, 1.9162, 3.5877, 3.5877, 3.5876, 3.5876, 3.5875, 3.5874, 3.5873, 3.5872, 3.5872, 3.5872, 3.5871, 3.5871, 3.5871, 3.587, 3.587, 3.5869, 3.5868, 3.5868, 3.5867, 3.5865, 3.5865, 3.5865, 3.5864, 3.5864, 3.5864, 3.5863, 3.5863, 3.5863, 3.5863, 3.5862, 3.1762]}, \"token.table\": {\"Topic\": [1, 5, 10, 2, 3, 6, 8, 9, 9, 3, 1, 2, 5, 5, 6, 4, 4, 2, 6, 7, 6, 1, 6, 5, 7, 5, 4, 3, 2, 1, 5, 3, 4, 2, 9, 5, 2, 5, 9, 3, 5, 6, 4, 8, 8, 1, 2, 9, 2, 9, 8, 9, 2, 3, 10, 4, 8, 2, 5, 9, 8, 1, 2, 5, 9, 3, 9, 3, 4, 1, 7, 4, 3, 4, 4, 7, 9, 7, 10, 2, 3, 10, 8, 4, 8, 3, 7, 7, 5, 1, 2, 3, 9, 9, 4, 9, 1, 4, 1, 4, 7, 8, 7, 6, 4, 6, 1, 3, 10, 9, 1, 3, 6, 5, 6, 5, 7, 6, 5, 1, 2, 5, 7, 8, 6, 8, 5, 8, 2, 3, 9, 1, 3, 2, 7, 1, 2, 6, 8, 5, 7, 8, 3, 8, 2, 1, 4, 6, 4, 5, 7, 7, 1, 2, 3, 5, 2, 7, 9, 5, 8, 4, 10, 7, 7, 6, 7, 1, 2, 4, 1, 3, 7, 1, 8, 3, 5, 2, 9, 10, 1, 2, 3, 4, 5, 6, 9, 6, 1, 3, 5, 4, 5, 5, 3, 2, 4, 5, 3, 10, 8, 8, 5, 3, 9, 3, 2, 8, 9, 9, 4, 3, 2, 4, 5, 9, 1, 6, 1, 10, 9, 2, 5, 4, 8, 9, 8, 10, 6, 4, 3, 9, 2, 3, 3, 6, 3, 6, 10, 2, 2, 2, 4, 9, 9, 1, 3, 3, 5, 10, 2, 3, 7, 6, 1, 5, 8, 6, 10, 2, 1, 2, 9, 10, 1, 3, 3, 5, 1, 4, 2, 3, 5, 4, 5, 7, 6, 8, 2, 3, 4, 7, 2, 6, 1, 3, 7, 8, 3, 4, 7, 1, 6, 8, 4, 5, 2, 1, 10, 1, 2, 2, 1, 6, 2, 3, 7, 1, 2, 5, 7, 6, 3, 9, 10, 5, 9, 2, 4, 3, 5, 9, 9, 10, 5, 7, 2, 2, 4, 2, 4, 4, 2, 2, 8, 3, 9, 10, 6, 7, 6, 6, 2, 5, 9, 5, 10, 8, 6, 9, 9, 2, 6, 9, 8, 6, 6, 3, 5, 5, 1, 1, 7, 2, 7, 7, 2, 4, 9, 1, 2, 9, 8, 1, 7, 10, 4, 10, 8, 1, 4, 6, 9, 1, 3, 7, 7, 1, 2, 7, 6, 2, 3, 7, 3, 1, 8, 9, 1, 3, 6, 9, 6, 4, 5, 6, 1, 4, 6, 2, 2, 10, 2, 10, 3, 10, 2, 8, 3, 4, 5, 8, 7, 10, 1, 10, 6, 4, 10, 7, 3, 1, 5, 3, 5, 6, 1, 3, 5, 10, 1, 3, 6, 7, 1, 1, 2, 2, 1, 4, 4, 4, 5, 2, 5, 7, 1, 2, 7, 8, 2, 3, 5, 6, 2, 7, 2, 6, 3, 1, 5, 1, 6, 9, 1, 5, 7, 9, 1, 6, 2, 4, 1, 3, 2, 9, 1, 3, 1, 4, 9, 1, 7, 10, 10, 6, 10, 3, 1, 3, 5, 5, 4], \"Freq\": [0.99964946168927, 0.999156030224007, 0.9993054899991101, 0.24637229523715518, 0.7535238493278013, 0.9993374779014405, 0.9989100010549787, 0.9981077991722276, 0.9992124367980905, 0.999270590026558, 0.9995983005269384, 0.2699395117734219, 0.729987730600478, 0.9998087121187756, 0.9997932880880658, 0.9995950473488565, 0.999796450230691, 0.30893132423259095, 0.6907565564301753, 0.9975876153055285, 0.9998233201964655, 0.9996616465108862, 0.9996314000536394, 0.9995771203160381, 0.998432011144644, 0.9995292443866735, 0.9995675219670237, 0.9991878678619237, 0.9996483256705562, 0.9994908690680332, 0.9988445986968368, 0.9995564956739361, 0.9997775346792184, 0.2936118669756662, 0.7060764925155301, 0.9996171494033957, 0.999409830797786, 0.9996173696177273, 0.9988651495158191, 0.999539354239696, 0.33910168819515163, 0.6604252296305575, 0.9996644022460615, 0.9997800267469891, 0.9997298049170557, 0.45898943780457396, 0.5409032997869245, 0.9985252414813398, 0.9295603537674736, 0.06988341561736376, 0.9987391690987568, 0.9991266261657703, 0.0775451211755901, 0.9223347350193839, 0.9991842965849077, 0.999493201439607, 0.9994305599443472, 0.7867150315146714, 0.01333017184099652, 0.19989385439097868, 0.9997229599285308, 0.742157811632187, 0.043832381616542765, 0.11181256146327036, 0.10216376174308966, 0.9991046609884661, 0.9996193209657801, 0.999806196626222, 0.9997991730087232, 0.9995648675895393, 0.9983437368768979, 0.9997496859108216, 0.99960302676525, 0.9995199616203007, 0.9997767710777038, 0.9994078574228875, 0.9993693627246893, 0.9993376166586827, 0.9992297339528043, 0.2140968908082121, 0.7857605164591174, 0.9997465469994534, 0.9990470190447003, 0.23467025086465257, 0.7648641410447021, 0.9994646439477559, 0.9994881442796482, 0.998419173454783, 0.999496338615854, 0.0005771103911098568, 0.02643165591283144, 0.9293785738433133, 0.0435141234896832, 0.9995844177958222, 0.9996985855506855, 0.9998766370867842, 0.9998500370248614, 0.9997553270498226, 0.9998372779848859, 0.9992906583431039, 0.9994292956591231, 0.9996425749311568, 0.9991133002585697, 0.9987969803514567, 0.9996651375446529, 0.9996611391856244, 0.9998095440256345, 0.9996782797661824, 0.9998169166367514, 0.9994716228773137, 0.801066846095453, 0.08544907117173013, 0.11325277235367298, 0.9995353483436527, 0.9993628812905481, 0.1110578877792366, 0.8884631022338928, 0.9993511473299656, 0.9997982306500894, 0.09150988052515242, 0.28585283386266047, 0.06793915372321922, 0.36488409431620117, 0.18949015664299237, 0.9993625530336965, 0.9996950320405139, 0.9990180167522327, 0.9996855047170141, 0.9999455884802823, 0.7549834383002876, 0.2448778267982065, 0.9746510190859683, 0.025227709458664583, 0.9997523120117112, 0.9988251103557672, 0.08123523458791852, 0.9186067972033067, 0.9996822787315072, 0.9994926689211256, 0.35618773796926795, 0.6435717998787692, 0.9996471773038935, 0.9999676262420074, 0.9985526716884807, 0.9995341935439264, 0.8642262286622053, 0.09015802023382591, 0.045567936473929364, 0.9109169602716926, 0.08906242557111844, 0.998758139981661, 0.9983160436937617, 0.8298536896864478, 0.13001379716017786, 0.00038089979636770857, 0.03974054542103093, 0.9993538277691326, 0.7231676168865192, 0.27639865056439644, 0.38845205722226644, 0.6113220279571632, 0.9995978228197967, 0.999195445345325, 0.9999226262378981, 0.9985648125512154, 0.9994689561873019, 0.9997677609805408, 0.8544760026948928, 0.13920849035492452, 0.006278454463907949, 0.9845834523239968, 0.015318837306313952, 0.9985919703793038, 0.999830429827584, 0.9991438325148679, 0.9994048807489426, 0.9999626941681099, 0.9995600189090293, 0.33728192262752926, 0.6622698924493008, 0.37591214664050127, 0.20609218565816956, 0.278518868046612, 0.027321935470111622, 0.08008153499860303, 0.03215038096267445, 0.9991513826637654, 0.9990039116746829, 0.9998983853462672, 0.47751419348178686, 0.5218867826459086, 0.8814513780291746, 0.11787353727823771, 0.9996309390253495, 0.9998706861278411, 0.9998166729405161, 0.30556304721335076, 0.6943228756351834, 0.9995162195022662, 0.9976717551498412, 0.9982654191507697, 0.999037928879811, 0.9997972982097121, 0.9994736586884487, 0.999381845342517, 0.9995675011911775, 0.9999149664701997, 0.9995194339695225, 0.9994583375815743, 0.99844885373145, 0.999700955064275, 0.9998052832128337, 0.024911147057569284, 0.9454782480930319, 0.029492507435972832, 0.9991730944058164, 0.9999467859232107, 0.999701769256248, 0.9999497977520772, 0.998097582544743, 0.9995629130338978, 0.9996374726625573, 0.9988141462618145, 0.9996207381187847, 0.951559312004071, 0.04831316595164157, 0.9997447452377011, 0.9975635576346432, 0.9997055563922687, 0.9997211048049468, 0.975506323207904, 0.024425586008782665, 0.3070766514888426, 0.6927746566718037, 0.7196646686699514, 0.2799005387048379, 0.8861457903474562, 0.11384206944875026, 0.9990107451752751, 0.9996938497569189, 0.9993382088083864, 0.10132737748112895, 0.21471753799572565, 0.6837185423369511, 0.9984378606157569, 0.9758390614107759, 0.02403327918176412, 0.999541620087372, 0.999976974649325, 0.9989080049253558, 0.9997595336179523, 0.8936138670697694, 0.1063448118892976, 0.9995896894242465, 0.9998009245606838, 0.9993515246466081, 0.9992912787323889, 0.9997221126381172, 0.9987239038125995, 0.9998960508325803, 0.28217957659825, 0.7176602884715346, 0.9990237371859672, 0.998671682366385, 0.9998578039501319, 0.9996212913004603, 0.000961694709485583, 0.9989385227802066, 0.9999387081788549, 0.9991986525167553, 0.9999156431409739, 0.9993600853045916, 0.9993338651972103, 0.9993643926976346, 0.32518133775115604, 0.6745354475121326, 0.9997762949629138, 0.9993766706726136, 0.9998883879984882, 0.0005038911934481474, 0.9993422094060382, 0.9985174915432847, 0.9827460980051859, 0.01719089384265631, 0.9986688911260693, 0.0012936125532721104, 0.999698958567352, 0.9995537051098671, 0.9997096957428604, 0.9998440421789678, 0.9979466504988272, 0.941220971583906, 0.05860598746285557, 0.999821376864478, 0.9997089686639444, 0.9996897396010596, 0.9993020040942446, 0.9999004718441227, 0.9993120103855975, 0.11316781646335819, 0.8864311989822194, 0.999669708394237, 0.17571484071589014, 0.8234479790411322, 0.1916637140700723, 0.26282432244635134, 0.5454527764691199, 0.9996125897397962, 0.9996603846107213, 0.9991866063749273, 0.9981559604872384, 0.9998559224758664, 0.9988614487474655, 0.9985774169327319, 0.9991824080011903, 0.13755337990479022, 0.8617660467539421, 0.14488538444062704, 0.8549181560722994, 0.9996130511169741, 0.7607035385215097, 0.23928290367473598, 0.997946385368931, 0.9984732029236822, 0.6216619088088187, 0.378226765608209, 0.9998811011769339, 0.9998359903570447, 0.9993876583179571, 0.12184414824905901, 0.8779191523840093, 0.9997618794180626, 0.9995934502611865, 0.999958728605642, 0.9987296384606106, 0.99950730995003, 0.9997641970917996, 0.9984275341154628, 0.9994030825815838, 0.9996841479637952, 0.9999380138102887, 0.9998008455851044, 0.9998374346637622, 0.9991408037299456, 0.998858619889723, 0.9990845736971559, 0.999066220408211, 0.9994743056628493, 0.9984151097943772, 0.9991054569091049, 0.9991161727932937, 0.42115498122805545, 0.5785794579068999, 0.9991918840472934, 0.9993097507123414, 0.9998522880617039, 0.9989647042147854, 0.953553673825906, 0.04617995540779911, 0.9991830922508521, 0.9995892267019413, 0.9998643289049063, 0.9999486594488323, 0.1408308483109922, 0.859126289214925, 0.9998877041729276, 0.06702433530299652, 0.915263122448992, 0.01766704060705015, 0.861398776105511, 0.10747351719555415, 0.03104139733713553, 0.9996047209059893, 0.999723701154122, 0.9989586498877303, 0.9991263457145642, 0.9998822721118537, 0.9984547555969295, 0.9998292514347391, 0.9504978946826548, 0.021235301090079203, 0.0017453672128832222, 0.02647140272872887, 0.9998859209594033, 0.8089342895510833, 0.1909190379195794, 0.9996008439727584, 0.9762105554271541, 0.023745662159038883, 0.9983669388562183, 0.9988965795542974, 0.17739764465176658, 0.8224448536360769, 0.9992387942345369, 0.999265755955146, 0.9997184347836032, 0.9996236431351252, 0.999733285458397, 0.9639142149565791, 0.0003492759180927907, 0.03562614364546465, 0.9986539337595309, 0.9992831598813313, 0.9997090139173095, 0.9995382024243477, 0.9992142766598472, 0.15871551173914003, 0.8062584372109407, 0.034974681066228024, 0.9996916376148312, 0.9998647315941708, 0.9994885791192503, 0.9995314806755834, 0.9992720546234033, 0.9992098574192597, 0.9995166518361824, 0.2889980133435399, 0.7109995733485305, 0.10271145487357607, 0.8971203636613909, 0.9993771805366236, 0.9994161259652158, 0.9986017544652678, 0.9985072132440331, 0.9996513393796157, 0.9991247377070313, 0.999826871638241, 0.9996869831914158, 0.9984658709260572, 0.999849601689043, 0.9996842056633981, 0.999564605489799, 0.9988113827006653, 0.9995744915702439, 0.9995420287422592, 0.9991742218883, 0.9997771439557257, 0.7928357841005331, 0.20705939740527943, 0.9991839871324187, 0.895989461913524, 0.045389023258106925, 0.024976641290075596, 0.03347123502832466, 0.9995926821134257, 0.9998272883481256, 0.9996599597036635, 0.9993456035314683, 0.9965705160387162, 0.0033724890559685824, 0.9996468601369491, 0.07871825854144089, 0.92077871562474, 0.08420140538579554, 0.3356879037725743, 0.5800955229455029, 0.7364633747970368, 0.1844115555705926, 0.07908180330516555, 0.9990831426289034, 0.3417165081723531, 0.20967926490066305, 0.2646470678238298, 0.18391310728042864, 0.30737594977172567, 0.6923477851022627, 0.25820251504179353, 0.7416295751345565, 0.9995860732506355, 0.986824335037411, 0.012950450591042138, 0.9542256026947918, 0.044430042643091645, 0.0013217705796744383, 0.9998387959421159, 0.9991240490124448, 0.9999697414672699, 0.9999286904862323, 0.8361326964316006, 0.1637747292238315, 0.1291622936992558, 0.8703996358987164, 0.9997463762376257, 0.9997184940487918, 0.9998090530591349, 0.9986960708556258, 0.7372962486195938, 0.26268956426335954, 0.9999187156531743, 0.9997925260913718, 0.9989632650939597, 0.6291762438159134, 0.37074261402703174, 0.9996751346171812, 0.999498266935963, 0.9984984853131714, 0.9995339381276024, 0.9997114302388246, 0.9736695126477503, 0.026277715388947086, 0.9987678500103916, 0.9995907659797837, 0.999231886422161], \"Term\": [\"able\", \"action\", \"activity\", \"add\", \"add\", \"again\", \"alert\", \"align\", \"alloc\", \"alt\", \"always\", \"amp\", \"amp\", \"android\", \"answer\", \"app\", \"application\", \"argument\", \"argument\", \"argv\", \"array\", \"as\", \"ask\", \"assign\", \"asynchronous\", \"attribute\", \"background\", \"bad\", \"bar\", \"base\", \"behavior\", \"bind\", \"bit\", \"block\", \"block\", \"body\", \"boolean\", \"border\", \"bottom\", \"box\", \"br\", \"br\", \"build\", \"button\", \"byte\", \"call\", \"call\", \"callback\", \"cause\", \"cause\", \"cell\", \"center\", \"change\", \"change\", \"char\", \"character\", \"child\", \"class\", \"class\", \"class\", \"click\", \"code\", \"code\", \"code\", \"code\", \"collection\", \"color\", \"column\", \"com\", \"come\", \"comma\", \"command\", \"comment\", \"compare\", \"compile\", \"compiler\", \"console\", \"const\", \"constructor\", \"contain\", \"contain\", \"content\", \"continue\", \"convert\", \"convert\", \"copy\", \"count\", \"counter\", \"cout\", \"create\", \"create\", \"create\", \"create\", \"css\", \"currently\", \"data\", \"database\", \"date\", \"datum\", \"day\", \"def\", \"delete\", \"describe\", \"detail\", \"device\", \"difference\", \"different\", \"directory\", \"display\", \"div\", \"do\", \"do\", \"do\", \"double\", \"duplicate\", \"echo\", \"echo\", \"eclipse\", \"element\", \"else\", \"else\", \"else\", \"else\", \"else\", \"email\", \"end\", \"endl\", \"enter\", \"error\", \"event\", \"event\", \"example\", \"example\", \"exception\", \"exit\", \"expect\", \"expect\", \"explain\", \"expression\", \"false\", \"false\", \"field\", \"file\", \"fill\", \"final\", \"find\", \"find\", \"find\", \"first\", \"first\", \"firstname\", \"flag\", \"follow\", \"follow\", \"follow\", \"follow\", \"foo\", \"for\", \"for\", \"form\", \"form\", \"format\", \"frame\", \"function\", \"gcc\", \"general\", \"generate\", \"get\", \"get\", \"get\", \"give\", \"give\", \"global\", \"good\", \"google\", \"group\", \"gt\", \"header\", \"height\", \"height\", \"here\", \"here\", \"here\", \"here\", \"here\", \"here\", \"hide\", \"how\", \"however\", \"html\", \"html\", \"http\", \"http\", \"id\", \"image\", \"import\", \"include\", \"include\", \"index\", \"info\", \"init\", \"initialize\", \"input\", \"insert\", \"install\", \"instead\", \"int\", \"integer\", \"interface\", \"internet\", \"issue\", \"item\", \"java\", \"java\", \"java\", \"js\", \"just\", \"key\", \"know\", \"label\", \"lang\", \"language\", \"layout\", \"leave\", \"length\", \"length\", \"let\", \"letter\", \"li\", \"library\", \"like\", \"like\", \"line\", \"line\", \"link\", \"link\", \"list\", \"list\", \"little\", \"load\", \"local\", \"log\", \"log\", \"log\", \"login\", \"look\", \"look\", \"loop\", \"lt\", \"mail\", \"main\", \"make\", \"make\", \"manual\", \"many\", \"map\", \"match\", \"mean\", \"merge\", \"message\", \"method\", \"method\", \"middle\", \"module\", \"more\", \"multiple\", \"name\", \"name\", \"need\", \"net\", \"new\", \"next\", \"node\", \"nofollow\", \"none\", \"none\", \"noreferrer\", \"nsstre\", \"null\", \"number\", \"number\", \"obj\", \"object\", \"object\", \"only\", \"only\", \"operator\", \"option\", \"order\", \"org\", \"os\", \"other\", \"other\", \"out\", \"output\", \"override\", \"package\", \"page\", \"param\", \"parameter\", \"parameter\", \"parse\", \"particular\", \"particular\", \"pass\", \"pass\", \"pass\", \"password\", \"path\", \"pattern\", \"person\", \"php\", \"place\", \"plugin\", \"portable\", \"position\", \"position\", \"possible\", \"possible\", \"post\", \"pre\", \"pre\", \"present\", \"press\", \"prettyprint\", \"prettyprint\", \"print\", \"private\", \"process\", \"program\", \"program\", \"project\", \"property\", \"public\", \"push\", \"put\", \"px\", \"pygame\", \"python\", \"query\", \"question\", \"questions\", \"quot\", \"quote\", \"radius\", \"rail\", \"random\", \"re\", \"real\", \"record\", \"red\", \"reference\", \"reference\", \"register\", \"regular\", \"rel\", \"relate\", \"remove\", \"remove\", \"replace\", \"request\", \"response\", \"result\", \"return\", \"return\", \"row\", \"run\", \"run\", \"run\", \"same\", \"same\", \"same\", \"save\", \"say\", \"scope\", \"screen\", \"script\", \"scroll\", \"search\", \"see\", \"see\", \"see\", \"see\", \"seem\", \"select\", \"select\", \"self\", \"set\", \"set\", \"shell\", \"short\", \"show\", \"show\", \"sign\", \"similar\", \"simple\", \"size\", \"snippet\", \"so\", \"so\", \"so\", \"solid\", \"sort\", \"source\", \"space\", \"specific\", \"start\", \"start\", \"start\", \"statement\", \"static\", \"status\", \"std\", \"step\", \"stop\", \"str\", \"string\", \"string\", \"strong\", \"strong\", \"style\", \"submit\", \"sum\", \"super\", \"sure\", \"swt\", \"syntax\", \"system\", \"tab\", \"table\", \"tag\", \"take\", \"target\", \"tell\", \"template\", \"term\", \"test\", \"text\", \"text\", \"textview\", \"then\", \"then\", \"then\", \"then\", \"thing\", \"think\", \"thread\", \"throw\", \"time\", \"time\", \"title\", \"top\", \"top\", \"true\", \"true\", \"true\", \"try\", \"try\", \"try\", \"turn\", \"type\", \"type\", \"type\", \"type\", \"undefined\", \"undefined\", \"understand\", \"understand\", \"update\", \"url\", \"url\", \"use\", \"use\", \"use\", \"user\", \"val\", \"value\", \"var\", \"variable\", \"variable\", \"version\", \"version\", \"very\", \"view\", \"void\", \"wait\", \"want\", \"want\", \"way\", \"web\", \"website\", \"well\", \"well\", \"widget\", \"width\", \"wiki\", \"window\", \"word\", \"work\", \"work\", \"wrap_content\", \"xml\", \"year\"]}, \"R\": 30, \"lambda.step\": 0.01, \"plot.opts\": {\"xlab\": \"PC1\", \"ylab\": \"PC2\"}, \"topic.order\": [5, 6, 7, 8, 4, 10, 9, 2, 1, 3]};\n",
       "\n",
       "function LDAvis_load_lib(url, callback){\n",
       "  var s = document.createElement('script');\n",
       "  s.src = url;\n",
       "  s.async = true;\n",
       "  s.onreadystatechange = s.onload = callback;\n",
       "  s.onerror = function(){console.warn(\"failed to load library \" + url);};\n",
       "  document.getElementsByTagName(\"head\")[0].appendChild(s);\n",
       "}\n",
       "\n",
       "if(typeof(LDAvis) !== \"undefined\"){\n",
       "   // already loaded: just create the visualization\n",
       "   !function(LDAvis){\n",
       "       new LDAvis(\"#\" + \"ldavis_el1162816435003700646780910753\", ldavis_el1162816435003700646780910753_data);\n",
       "   }(LDAvis);\n",
       "}else if(typeof define === \"function\" && define.amd){\n",
       "   // require.js is available: use it to load d3/LDAvis\n",
       "   require.config({paths: {d3: \"https://d3js.org/d3.v5\"}});\n",
       "   require([\"d3\"], function(d3){\n",
       "      window.d3 = d3;\n",
       "      LDAvis_load_lib(\"https://cdn.jsdelivr.net/gh/bmabey/pyLDAvis@3.3.1/pyLDAvis/js/ldavis.v3.0.0.js\", function(){\n",
       "        new LDAvis(\"#\" + \"ldavis_el1162816435003700646780910753\", ldavis_el1162816435003700646780910753_data);\n",
       "      });\n",
       "    });\n",
       "}else{\n",
       "    // require.js not available: dynamically load d3 & LDAvis\n",
       "    LDAvis_load_lib(\"https://d3js.org/d3.v5.js\", function(){\n",
       "         LDAvis_load_lib(\"https://cdn.jsdelivr.net/gh/bmabey/pyLDAvis@3.3.1/pyLDAvis/js/ldavis.v3.0.0.js\", function(){\n",
       "                 new LDAvis(\"#\" + \"ldavis_el1162816435003700646780910753\", ldavis_el1162816435003700646780910753_data);\n",
       "            })\n",
       "         });\n",
       "}\n",
       "</script>"
      ],
      "text/plain": [
       "PreparedData(topic_coordinates=              x         y  topics  cluster       Freq\n",
       "topic                                                \n",
       "4     -0.455574  0.044090       1        1  28.884499\n",
       "5     -0.018955  0.146335       2        1  14.950239\n",
       "6     -0.283164  0.360305       3        1  12.222974\n",
       "7      0.299565 -0.269626       4        1  11.488986\n",
       "3      0.434155 -0.031906       5        1   8.933456\n",
       "9      0.346837  0.257048       6        1   6.272550\n",
       "8      0.082312  0.461069       7        1   6.209669\n",
       "1      0.081134 -0.449693       8        1   4.669326\n",
       "0     -0.233677 -0.118739       9        1   3.602907\n",
       "2     -0.252634 -0.398883      10        1   2.765394, topic_info=          Term          Freq         Total Category  logprob  loglift\n",
       "286         gt  24927.000000  24927.000000  Default  30.0000  30.0000\n",
       "262         lt  24470.000000  24470.000000  Default  29.0000  29.0000\n",
       "408     return  20648.000000  20648.000000  Default  28.0000  28.0000\n",
       "7     function  17572.000000  17572.000000  Default  27.0000  27.0000\n",
       "233       code  38761.000000  38761.000000  Default  26.0000  26.0000\n",
       "...        ...           ...           ...      ...      ...      ...\n",
       "6054  textview    533.538314    534.436107  Topic10  -4.8090   3.5863\n",
       "1289    letter    524.381904    525.279814  Topic10  -4.8263   3.5863\n",
       "1403    scroll    519.906841    520.804771  Topic10  -4.8349   3.5863\n",
       "1460  portable    494.507273    495.405039  Topic10  -4.8849   3.5862\n",
       "2242    height   1239.403742   1870.838482  Topic10  -3.9661   3.1762\n",
       "\n",
       "[440 rows x 6 columns], token_table=      Topic      Freq          Term\n",
       "term                               \n",
       "326       1  0.999649          able\n",
       "885       5  0.999156        action\n",
       "1779     10  0.999305      activity\n",
       "191       2  0.246372           add\n",
       "191       3  0.753524           add\n",
       "...     ...       ...           ...\n",
       "75        1  0.973670          work\n",
       "75        3  0.026278          work\n",
       "6055      5  0.998768  wrap_content\n",
       "438       5  0.999591           xml\n",
       "928       4  0.999232          year\n",
       "\n",
       "[503 rows x 3 columns], R=30, lambda_step=0.01, plot_opts={'xlab': 'PC1', 'ylab': 'PC2'}, topic_order=[5, 6, 7, 8, 4, 10, 9, 2, 1, 3])"
      ]
     },
     "execution_count": 16,
     "metadata": {},
     "output_type": "execute_result"
    }
   ],
   "source": [
    "pyLDAvis.enable_notebook()\n",
    "vis = pyLDAvis.gensim_models.prepare(lda_model, corpus, id2word, mds=\"mmds\", R=30)\n",
    "vis"
   ]
  },
  {
   "cell_type": "code",
   "execution_count": null,
   "metadata": {},
   "outputs": [],
   "source": []
  }
 ],
 "metadata": {
  "colab": {
   "collapsed_sections": [],
   "name": "Untitled2.ipynb",
   "provenance": []
  },
  "kernelspec": {
   "display_name": "Python 3 (ipykernel)",
   "language": "python",
   "name": "python3"
  },
  "language_info": {
   "codemirror_mode": {
    "name": "ipython",
    "version": 3
   },
   "file_extension": ".py",
   "mimetype": "text/x-python",
   "name": "python",
   "nbconvert_exporter": "python",
   "pygments_lexer": "ipython3",
   "version": "3.8.11"
  }
 },
 "nbformat": 4,
 "nbformat_minor": 1
}
