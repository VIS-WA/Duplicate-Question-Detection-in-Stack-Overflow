{
 "cells": [
  {
   "cell_type": "code",
   "execution_count": 45,
   "id": "c7ff9669",
   "metadata": {},
   "outputs": [],
   "source": [
    "# libraries\n",
    "import nltk #NLP lib\n",
    "import pandas as pd # pandas lib for data handling\n",
    "from nltk.corpus import stopwords # common eng sstopwords\n",
    "from nltk.stem import PorterStemmer #porter stemmer algo\n",
    "from nltk.tokenize import sent_tokenize, word_tokenize\n",
    "from bs4 import BeautifulSoup # HTML to txt\n",
    "\n",
    "ps = PorterStemmer()\n",
    "sw_nltk = stopwords.words('english') # bag of all common english stop words"
   ]
  },
  {
   "cell_type": "code",
   "execution_count": 35,
   "id": "6e7c8352",
   "metadata": {
    "collapsed": true
   },
   "outputs": [
    {
     "data": {
      "text/plain": [
       "['first',\n",
       " 'met',\n",
       " 'quiet.',\n",
       " 'remain',\n",
       " 'quiet',\n",
       " 'entir',\n",
       " 'two',\n",
       " 'hour',\n",
       " 'long',\n",
       " 'journey',\n",
       " 'stoni',\n",
       " 'brook',\n",
       " 'new',\n",
       " 'york.']"
      ]
     },
     "execution_count": 35,
     "metadata": {},
     "output_type": "execute_result"
    }
   ],
   "source": [
    "def TokStem(text): # Tokenise and Stem the given text\n",
    "    words = [word for word in text.split() if word.lower() not in sw_nltk] # bag of tokenised words\n",
    "    final = []\n",
    "    for w in words:\n",
    "        final.append(ps.stem(w))\n",
    "    return final\n",
    "text = \"When I first met her she was very quiet. She remained quiet during the entire two hour long journey from Stony Brook to New York.\"\n",
    "TokStem(text)"
   ]
  },
  {
   "cell_type": "code",
   "execution_count": 57,
   "id": "380a8695",
   "metadata": {},
   "outputs": [],
   "source": [
    "def hbt(text): # convert HTML body to text\n",
    "    return BeautifulSoup(text).get_text()"
   ]
  },
  {
   "cell_type": "code",
   "execution_count": 58,
   "id": "d3db5f33",
   "metadata": {
    "collapsed": true
   },
   "outputs": [
    {
     "name": "stdout",
     "output_type": "stream",
     "text": [
      "<p>I'm trying to call this function which should return the age of <code>57</code> but is returning <code>58</code> if I run it today October 18, 2016.</p>\n",
      "\n",
      "<pre><code>    DateTime myDate3test = Convert.ToDateTime(\"1958-10-17 13:45:59.473\");\n",
      "    Console.WriteLine(CalculateAge(myDate3test)); //this should return 57 if run today October 18, 2016 since the person is not yet 58\n",
      "\n",
      "\n",
      "    public static string CalculateAge(DateTime dtDateOfBirth)\n",
      "    {\n",
      "        int age = 0;\n",
      "        DateTime dtNow = DateTime.Now;\n",
      "        string measurement = string.Empty;\n",
      "\n",
      "        if (DateTime.Compare(dtNow, dtDateOfBirth) == 1)\n",
      "        {\n",
      "            TimeSpan tsAge = dtNow.Subtract(dtDateOfBirth);\n",
      "            DateTime dtAge = new DateTime(tsAge.Ticks);\n",
      "\n",
      "\n",
      "\n",
      "            var vNowDate = Convert.ToInt32(dtNow.ToString(\"yyyyMMdd\"));\n",
      "            var vBirthdate = Convert.ToInt32(dtDateOfBirth.ToString(\"yyyyMMdd\"));\n",
      "            double diff = (vNowDate - vBirthdate) / 10000;\n",
      "            age = Convert.ToInt32(Math.Truncate(diff));\n",
      "\n",
      "            measurement = \" year\";\n",
      "\n",
      "            if (age == 0) // patient is not 1 year old yet\n",
      "            {\n",
      "                age = dtAge.Month - 1;\n",
      "                measurement = \" month\";\n",
      "\n",
      "                if (age == 0) // patient is not 1 month old yet\n",
      "                {\n",
      "                    age = dtAge.Day - 1;\n",
      "                    measurement = \" day\";\n",
      "                }\n",
      "            }\n",
      "            if (age &gt; 1)\n",
      "            {\n",
      "                measurement += \"s\";\n",
      "            }\n",
      "        }\n",
      "        else\n",
      "        {\n",
      "            // Future date!!!\n",
      "            measurement = \" Unable to calculate age\";\n",
      "            age = -1;\n",
      "        }\n",
      "\n",
      "        return age.ToString() + measurement;\n",
      "    }\n",
      "</code></pre>\n",
      "\n",
      "<p>Any help is appreciated.</p>\n",
      "\n",
      "I'm trying to call this function which should return the age of 57 but is returning 58 if I run it today October 18, 2016.\n",
      "    DateTime myDate3test = Convert.ToDateTime(\"1958-10-17 13:45:59.473\");\n",
      "    Console.WriteLine(CalculateAge(myDate3test)); //this should return 57 if run today October 18, 2016 since the person is not yet 58\n",
      "\n",
      "\n",
      "    public static string CalculateAge(DateTime dtDateOfBirth)\n",
      "    {\n",
      "        int age = 0;\n",
      "        DateTime dtNow = DateTime.Now;\n",
      "        string measurement = string.Empty;\n",
      "\n",
      "        if (DateTime.Compare(dtNow, dtDateOfBirth) == 1)\n",
      "        {\n",
      "            TimeSpan tsAge = dtNow.Subtract(dtDateOfBirth);\n",
      "            DateTime dtAge = new DateTime(tsAge.Ticks);\n",
      "\n",
      "\n",
      "\n",
      "            var vNowDate = Convert.ToInt32(dtNow.ToString(\"yyyyMMdd\"));\n",
      "            var vBirthdate = Convert.ToInt32(dtDateOfBirth.ToString(\"yyyyMMdd\"));\n",
      "            double diff = (vNowDate - vBirthdate) / 10000;\n",
      "            age = Convert.ToInt32(Math.Truncate(diff));\n",
      "\n",
      "            measurement = \" year\";\n",
      "\n",
      "            if (age == 0) // patient is not 1 year old yet\n",
      "            {\n",
      "                age = dtAge.Month - 1;\n",
      "                measurement = \" month\";\n",
      "\n",
      "                if (age == 0) // patient is not 1 month old yet\n",
      "                {\n",
      "                    age = dtAge.Day - 1;\n",
      "                    measurement = \" day\";\n",
      "                }\n",
      "            }\n",
      "            if (age > 1)\n",
      "            {\n",
      "                measurement += \"s\";\n",
      "            }\n",
      "        }\n",
      "        else\n",
      "        {\n",
      "            // Future date!!!\n",
      "            measurement = \" Unable to calculate age\";\n",
      "            age = -1;\n",
      "        }\n",
      "\n",
      "        return age.ToString() + measurement;\n",
      "    }\n",
      "\n",
      "Any help is appreciated.\n",
      "\n"
     ]
    }
   ],
   "source": [
    "df = pd.read_csv('../QueryResults.csv')\n",
    "# print(df.columns)\n",
    "# df = df.dropna(axis = 0)\n",
    "#print(df.describe())\n",
    "# print(df.head())\n",
    "X_features = ['Title','Body','Tags','Topic']\n",
    "a = df.loc[10].at[\"OBody\"]\n",
    "print(a)\n",
    "print(BeautifulSoup(a).get_text()) # html to text "
   ]
  },
  {
   "cell_type": "code",
   "execution_count": null,
   "id": "c356c26e",
   "metadata": {},
   "outputs": [],
   "source": []
  }
 ],
 "metadata": {
  "kernelspec": {
   "display_name": "Python 3 (ipykernel)",
   "language": "python",
   "name": "python3"
  },
  "language_info": {
   "codemirror_mode": {
    "name": "ipython",
    "version": 3
   },
   "file_extension": ".py",
   "mimetype": "text/x-python",
   "name": "python",
   "nbconvert_exporter": "python",
   "pygments_lexer": "ipython3",
   "version": "3.8.10"
  }
 },
 "nbformat": 4,
 "nbformat_minor": 5
}
